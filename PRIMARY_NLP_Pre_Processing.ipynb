{
 "cells": [
  {
   "cell_type": "code",
   "execution_count": 131,
   "id": "57f95a7e",
   "metadata": {},
   "outputs": [],
   "source": [
    "import pandas as pd\n",
    "import re"
   ]
  },
  {
   "cell_type": "code",
   "execution_count": 137,
   "id": "5b06a45f",
   "metadata": {},
   "outputs": [],
   "source": [
    "nlp_df = pd.read_csv('./archive (2)/Combined_News_DJIA.csv')"
   ]
  },
  {
   "cell_type": "markdown",
   "id": "b112cb84",
   "metadata": {},
   "source": [
    "# Initial Data Inspection"
   ]
  },
  {
   "cell_type": "code",
   "execution_count": 256,
   "id": "dd83fab4",
   "metadata": {
    "scrolled": true
   },
   "outputs": [
    {
     "data": {
      "text/html": [
       "<div>\n",
       "<style scoped>\n",
       "    .dataframe tbody tr th:only-of-type {\n",
       "        vertical-align: middle;\n",
       "    }\n",
       "\n",
       "    .dataframe tbody tr th {\n",
       "        vertical-align: top;\n",
       "    }\n",
       "\n",
       "    .dataframe thead th {\n",
       "        text-align: right;\n",
       "    }\n",
       "</style>\n",
       "<table border=\"1\" class=\"dataframe\">\n",
       "  <thead>\n",
       "    <tr style=\"text-align: right;\">\n",
       "      <th></th>\n",
       "      <th>Label</th>\n",
       "      <th>Top1</th>\n",
       "      <th>Top2</th>\n",
       "      <th>Top3</th>\n",
       "      <th>Top4</th>\n",
       "      <th>Top5</th>\n",
       "      <th>Top6</th>\n",
       "      <th>Top7</th>\n",
       "      <th>Top8</th>\n",
       "      <th>Top9</th>\n",
       "      <th>...</th>\n",
       "      <th>Top16</th>\n",
       "      <th>Top17</th>\n",
       "      <th>Top18</th>\n",
       "      <th>Top19</th>\n",
       "      <th>Top20</th>\n",
       "      <th>Top21</th>\n",
       "      <th>Top22</th>\n",
       "      <th>Top23</th>\n",
       "      <th>Top24</th>\n",
       "      <th>Top25</th>\n",
       "    </tr>\n",
       "    <tr>\n",
       "      <th>Date</th>\n",
       "      <th></th>\n",
       "      <th></th>\n",
       "      <th></th>\n",
       "      <th></th>\n",
       "      <th></th>\n",
       "      <th></th>\n",
       "      <th></th>\n",
       "      <th></th>\n",
       "      <th></th>\n",
       "      <th></th>\n",
       "      <th></th>\n",
       "      <th></th>\n",
       "      <th></th>\n",
       "      <th></th>\n",
       "      <th></th>\n",
       "      <th></th>\n",
       "      <th></th>\n",
       "      <th></th>\n",
       "      <th></th>\n",
       "      <th></th>\n",
       "      <th></th>\n",
       "    </tr>\n",
       "  </thead>\n",
       "  <tbody>\n",
       "    <tr>\n",
       "      <th>2008-08-08</th>\n",
       "      <td>0</td>\n",
       "      <td>b\"Georgia 'downs two Russian warplanes' as cou...</td>\n",
       "      <td>b'BREAKING: Musharraf to be impeached.'</td>\n",
       "      <td>b'Russia Today: Columns of troops roll into So...</td>\n",
       "      <td>b'Russian tanks are moving towards the capital...</td>\n",
       "      <td>b\"Afghan children raped with 'impunity,' U.N. ...</td>\n",
       "      <td>b'150 Russian tanks have entered South Ossetia...</td>\n",
       "      <td>b\"Breaking: Georgia invades South Ossetia, Rus...</td>\n",
       "      <td>b\"The 'enemy combatent' trials are nothing but...</td>\n",
       "      <td>b'Georgian troops retreat from S. Osettain cap...</td>\n",
       "      <td>...</td>\n",
       "      <td>b'Georgia Invades South Ossetia - if Russia ge...</td>\n",
       "      <td>b'Al-Qaeda Faces Islamist Backlash'</td>\n",
       "      <td>b'Condoleezza Rice: \"The US would not act to p...</td>\n",
       "      <td>b'This is a busy day:  The European Union has ...</td>\n",
       "      <td>b\"Georgia will withdraw 1,000 soldiers from Ir...</td>\n",
       "      <td>b'Why the Pentagon Thinks Attacking Iran is a ...</td>\n",
       "      <td>b'Caucasus in crisis: Georgia invades South Os...</td>\n",
       "      <td>b'Indian shoe manufactory  - And again in a se...</td>\n",
       "      <td>b'Visitors Suffering from Mental Illnesses Ban...</td>\n",
       "      <td>b\"No Help for Mexico's Kidnapping Surge\"</td>\n",
       "    </tr>\n",
       "    <tr>\n",
       "      <th>2008-08-11</th>\n",
       "      <td>1</td>\n",
       "      <td>b'Why wont America and Nato help us? If they w...</td>\n",
       "      <td>b'Bush puts foot down on Georgian conflict'</td>\n",
       "      <td>b\"Jewish Georgian minister: Thanks to Israeli ...</td>\n",
       "      <td>b'Georgian army flees in disarray as Russians ...</td>\n",
       "      <td>b\"Olympic opening ceremony fireworks 'faked'\"</td>\n",
       "      <td>b'What were the Mossad with fraudulent New Zea...</td>\n",
       "      <td>b'Russia angered by Israeli military sale to G...</td>\n",
       "      <td>b'An American citizen living in S.Ossetia blam...</td>\n",
       "      <td>b'Welcome To World War IV! Now In High Definit...</td>\n",
       "      <td>...</td>\n",
       "      <td>b'Israel and the US behind the Georgian aggres...</td>\n",
       "      <td>b'\"Do not believe TV, neither Russian nor Geor...</td>\n",
       "      <td>b'Riots are still going on in Montreal (Canada...</td>\n",
       "      <td>b'China to overtake US as largest manufacturer'</td>\n",
       "      <td>b'War in South Ossetia [PICS]'</td>\n",
       "      <td>b'Israeli Physicians Group Condemns State Tort...</td>\n",
       "      <td>b' Russia has just beaten the United States ov...</td>\n",
       "      <td>b'Perhaps *the* question about the Georgia - R...</td>\n",
       "      <td>b'Russia is so much better at war'</td>\n",
       "      <td>b\"So this is what it's come to: trading sex fo...</td>\n",
       "    </tr>\n",
       "    <tr>\n",
       "      <th>2008-08-12</th>\n",
       "      <td>0</td>\n",
       "      <td>b'Remember that adorable 9-year-old who sang a...</td>\n",
       "      <td>b\"Russia 'ends Georgia operation'\"</td>\n",
       "      <td>b'\"If we had no sexual harassment we would hav...</td>\n",
       "      <td>b\"Al-Qa'eda is losing support in Iraq because ...</td>\n",
       "      <td>b'Ceasefire in Georgia: Putin Outmaneuvers the...</td>\n",
       "      <td>b'Why Microsoft and Intel tried to kill the XO...</td>\n",
       "      <td>b'Stratfor: The Russo-Georgian War and the Bal...</td>\n",
       "      <td>b\"I'm Trying to Get a Sense of This Whole Geor...</td>\n",
       "      <td>b\"The US military was surprised by the timing ...</td>\n",
       "      <td>...</td>\n",
       "      <td>b'U.S. troops still in Georgia (did you know t...</td>\n",
       "      <td>b'Why Russias response to Georgia was right'</td>\n",
       "      <td>b'Gorbachev accuses U.S. of making a \"serious ...</td>\n",
       "      <td>b'Russia, Georgia, and NATO: Cold War Two'</td>\n",
       "      <td>b'Remember that adorable 62-year-old who led y...</td>\n",
       "      <td>b'War in Georgia: The Israeli connection'</td>\n",
       "      <td>b'All signs point to the US encouraging Georgi...</td>\n",
       "      <td>b'Christopher King argues that the US and NATO...</td>\n",
       "      <td>b'America: The New Mexico?'</td>\n",
       "      <td>b\"BBC NEWS | Asia-Pacific | Extinction 'by man...</td>\n",
       "    </tr>\n",
       "    <tr>\n",
       "      <th>2008-08-13</th>\n",
       "      <td>0</td>\n",
       "      <td>b' U.S. refuses Israel weapons to attack Iran:...</td>\n",
       "      <td>b\"When the president ordered to attack Tskhinv...</td>\n",
       "      <td>b' Israel clears troops who killed Reuters cam...</td>\n",
       "      <td>b'Britain\\'s policy of being tough on drugs is...</td>\n",
       "      <td>b'Body of 14 year old found in trunk; Latest (...</td>\n",
       "      <td>b'China has moved 10 *million* quake survivors...</td>\n",
       "      <td>b\"Bush announces Operation Get All Up In Russi...</td>\n",
       "      <td>b'Russian forces sink Georgian ships '</td>\n",
       "      <td>b\"The commander of a Navy air reconnaissance s...</td>\n",
       "      <td>...</td>\n",
       "      <td>b'Elephants extinct by 2020?'</td>\n",
       "      <td>b'US humanitarian missions soon in Georgia - i...</td>\n",
       "      <td>b\"Georgia's DDOS came from US sources\"</td>\n",
       "      <td>b'Russian convoy heads into Georgia, violating...</td>\n",
       "      <td>b'Israeli defence minister: US against strike ...</td>\n",
       "      <td>b'Gorbachev: We Had No Choice'</td>\n",
       "      <td>b'Witness: Russian forces head towards Tbilisi...</td>\n",
       "      <td>b' Quarter of Russians blame U.S. for conflict...</td>\n",
       "      <td>b'Georgian president  says US military will ta...</td>\n",
       "      <td>b'2006: Nobel laureate Aleksander Solzhenitsyn...</td>\n",
       "    </tr>\n",
       "    <tr>\n",
       "      <th>2008-08-14</th>\n",
       "      <td>1</td>\n",
       "      <td>b'All the experts admit that we should legalis...</td>\n",
       "      <td>b'War in South Osetia - 89 pictures made by a ...</td>\n",
       "      <td>b'Swedish wrestler Ara Abrahamian throws away ...</td>\n",
       "      <td>b'Russia exaggerated the death toll in South O...</td>\n",
       "      <td>b'Missile That Killed 9 Inside Pakistan May Ha...</td>\n",
       "      <td>b\"Rushdie Condemns Random House's Refusal to P...</td>\n",
       "      <td>b'Poland and US agree to missle defense deal. ...</td>\n",
       "      <td>b'Will the Russians conquer Tblisi? Bet on it,...</td>\n",
       "      <td>b'Russia exaggerating South Ossetian death tol...</td>\n",
       "      <td>...</td>\n",
       "      <td>b'Bank analyst forecast Georgian crisis 2 days...</td>\n",
       "      <td>b\"Georgia confict could set back Russia's US r...</td>\n",
       "      <td>b'War in the Caucasus is as much the product o...</td>\n",
       "      <td>b'\"Non-media\" photos of South Ossetia/Georgia ...</td>\n",
       "      <td>b'Georgian TV reporter shot by Russian sniper ...</td>\n",
       "      <td>b'Saudi Arabia: Mother moves to block child ma...</td>\n",
       "      <td>b'Taliban wages war on humanitarian aid workers'</td>\n",
       "      <td>b'Russia: World  \"can forget about\" Georgia\\'s...</td>\n",
       "      <td>b'Darfur rebels accuse Sudan of mounting major...</td>\n",
       "      <td>b'Philippines : Peace Advocate say Muslims nee...</td>\n",
       "    </tr>\n",
       "    <tr>\n",
       "      <th>2008-08-15</th>\n",
       "      <td>1</td>\n",
       "      <td>b\"Mom of missing gay man: Too bad he's not a 2...</td>\n",
       "      <td>b\"Russia: U.S. Poland Missile Deal Won't Go 'U...</td>\n",
       "      <td>b\"The government has been accused of creating ...</td>\n",
       "      <td>b'The Italian government has lashed out at an ...</td>\n",
       "      <td>b'Gorbachev: Georgia started conflict in S. Os...</td>\n",
       "      <td>b\"China fakes more than your girlfriend; 'Ethn...</td>\n",
       "      <td>b\"The UN's criticism of freedom of expression ...</td>\n",
       "      <td>b'Russian general threatens nuclear strike on ...</td>\n",
       "      <td>b'Russia can inspect Polish missile defence site'</td>\n",
       "      <td>...</td>\n",
       "      <td>b'Why are redditors generally supportive of Ru...</td>\n",
       "      <td>b'Johann Hari: We need to stop being such cowa...</td>\n",
       "      <td>b'US officials have said that their military p...</td>\n",
       "      <td>b'Israel clears troops who killed Reuters came...</td>\n",
       "      <td>b'Unenforceable laws encourage cops to escalat...</td>\n",
       "      <td>b'What Chinese pollution really looks like'</td>\n",
       "      <td>b'Hacker Kidnaps and Tortures Informant, Posts...</td>\n",
       "      <td>b'Bush Tells Putin: This Aggression Will Not S...</td>\n",
       "      <td>b'Georgia is all about the oil pipelines'</td>\n",
       "      <td>b'Rivals say they plan to remove Georgian pres...</td>\n",
       "    </tr>\n",
       "    <tr>\n",
       "      <th>2008-08-18</th>\n",
       "      <td>0</td>\n",
       "      <td>b'In an Afghan prison, the majority of female ...</td>\n",
       "      <td>b\"Little girl, you're not ugly; they are\"</td>\n",
       "      <td>b\"Pakistan's Musharraf to Resign, Leave the Co...</td>\n",
       "      <td>b'Tornado throws a bus in Poland, captured by ...</td>\n",
       "      <td>b\"Britain's terror laws have left me and my fa...</td>\n",
       "      <td>b\"Iran 'fires satellite into space'\"</td>\n",
       "      <td>b'Rights of Non-Muslims restricted by new Mald...</td>\n",
       "      <td>b'Tour of Tskhinvali undercuts Russian version...</td>\n",
       "      <td>b'The Great Resource War is already underway, ...</td>\n",
       "      <td>...</td>\n",
       "      <td>b'MI5 seeks gay spies'</td>\n",
       "      <td>b' New porn channel lets Canadians strut their...</td>\n",
       "      <td>b'The Dangerous Neighbor: Vladimir Putin Takes...</td>\n",
       "      <td>b'Israel opinion page: Russians are saner.'</td>\n",
       "      <td>b\"NATO's Hour\"</td>\n",
       "      <td>b'Georgian President Saakashvili Eats His Tie ...</td>\n",
       "      <td>b'No Chicken Left Behind: Animal RFID Surveill...</td>\n",
       "      <td>b'Putin has given us an order that everyone mu...</td>\n",
       "      <td>b'National DNA database grows on the genes of ...</td>\n",
       "      <td>b'Mayor Asks Ugly Women To Visit His Town'</td>\n",
       "    </tr>\n",
       "    <tr>\n",
       "      <th>2008-08-19</th>\n",
       "      <td>0</td>\n",
       "      <td>b\"Man arrested and locked up for five hours af...</td>\n",
       "      <td>b'The US missile defence system is the magic p...</td>\n",
       "      <td>b'Schrder lambasted for blaming Russian confli...</td>\n",
       "      <td>b'Officials: 10 French soldiers killed near Ka...</td>\n",
       "      <td>b'These ten laws make China a totalitarian was...</td>\n",
       "      <td>b'Russia seizes US vehicles'</td>\n",
       "      <td>b\"Muslims are only 4% of Denmark's 5.4 million...</td>\n",
       "      <td>b'Taliban Forces Kill 10 French Soldiers and R...</td>\n",
       "      <td>b'Assaults, kidnappings and killings of humani...</td>\n",
       "      <td>...</td>\n",
       "      <td>b'Brazil Will Play Military War Game to Defend...</td>\n",
       "      <td>b'16,000 fine for British woman caught sharing...</td>\n",
       "      <td>b'102-year-old grandma is oldest person on Fac...</td>\n",
       "      <td>b'Today 5 years ago - August 19th 2003. Bombin...</td>\n",
       "      <td>b'US national Ken Haywood, whose computer was ...</td>\n",
       "      <td>b' Taliban kill 10 French troops near Afghan c...</td>\n",
       "      <td>b'Not Everybody Loves Offshore Wind Power in S...</td>\n",
       "      <td>b'Taliban Forces Kill 10 French Soldiers and R...</td>\n",
       "      <td>b'Pakistan is more democratic than America. '</td>\n",
       "      <td>b'Blaze engulfs Egyptian parliament'</td>\n",
       "    </tr>\n",
       "    <tr>\n",
       "      <th>2008-08-20</th>\n",
       "      <td>1</td>\n",
       "      <td>b'Two elderly Chinese women have been sentence...</td>\n",
       "      <td>b'The Power of Islam: The Human Rights Council...</td>\n",
       "      <td>b\"We had 55 times more military soldiers in th...</td>\n",
       "      <td>b'\"I live here on less than a dollar a month\" ...</td>\n",
       "      <td>b'Russia sends aircraft carrier to Syria.'</td>\n",
       "      <td>b'The American people should be eternally grat...</td>\n",
       "      <td>b'Abkhazia officially appeals to Russia for in...</td>\n",
       "      <td>b'Russia warns of response \"beyond diplomacy\" ...</td>\n",
       "      <td>b'India Sets Aside 40% of Regional Wasteland f...</td>\n",
       "      <td>...</td>\n",
       "      <td>b'Grote Markt [PIC]'</td>\n",
       "      <td>b'Russia has informed Norway that it plans to ...</td>\n",
       "      <td>b\"'What Are the Aims of this War?': French Opp...</td>\n",
       "      <td>b'Bush Covered up Musharraf Ties with Al Qaeda'</td>\n",
       "      <td>b'Mikhail Gorbachev: Russia Never Wanted a War'</td>\n",
       "      <td>b'Germans urge tougher laws after new privacy ...</td>\n",
       "      <td>b'The Time of the Wimps: Dialogue with Russia ...</td>\n",
       "      <td>b'1998 Missile Strikes on Bin Laden May Have B...</td>\n",
       "      <td>b\"For a moment let's forget everything else an...</td>\n",
       "      <td>b'The First Solar Radio Station in Argentina'</td>\n",
       "    </tr>\n",
       "    <tr>\n",
       "      <th>2008-08-21</th>\n",
       "      <td>1</td>\n",
       "      <td>b\"British resident held in Guantanamo Bay wins...</td>\n",
       "      <td>b'Chinese may have killed 140 Tibetans this we...</td>\n",
       "      <td>b'U.S. Navy Ships Head to Georgia'</td>\n",
       "      <td>b'Hacker uncovers Chinese olympic fraud'</td>\n",
       "      <td>b\"If you've ever wondered what Kim Jong Il was...</td>\n",
       "      <td>b\"Russia's Nuclear Threat Is More Than Words\"</td>\n",
       "      <td>b'Czech President: \"I must protest aloud again...</td>\n",
       "      <td>b'50% Of All Food Produced Is Wasted Before It...</td>\n",
       "      <td>b\"China sentences Alive in Baghdad blogger, GR...</td>\n",
       "      <td>...</td>\n",
       "      <td>b'Russia condemns US missile deal'</td>\n",
       "      <td>b'NATOs decision to freeze relations with Mosc...</td>\n",
       "      <td>b'Sweet Sixteen or Fraudulent Fourteen,  Hacke...</td>\n",
       "      <td>b'If Russias feeling churlish, they can pretty...</td>\n",
       "      <td>b'Chinese Gymnasts 14, Official Document Shows'</td>\n",
       "      <td>b'Suicide attack kills at least 50 at Pakistan...</td>\n",
       "      <td>b'The Abkhazian Parliament has approved an off...</td>\n",
       "      <td>b'Georgia, Bulgaria and the Second Balkan War ...</td>\n",
       "      <td>b\"Terrorist reveals Pak's sinister designs on ...</td>\n",
       "      <td>b\"International Olympic Committee launches pro...</td>\n",
       "    </tr>\n",
       "  </tbody>\n",
       "</table>\n",
       "<p>10 rows × 26 columns</p>\n",
       "</div>"
      ],
      "text/plain": [
       "            Label                                               Top1  \\\n",
       "Date                                                                   \n",
       "2008-08-08      0  b\"Georgia 'downs two Russian warplanes' as cou...   \n",
       "2008-08-11      1  b'Why wont America and Nato help us? If they w...   \n",
       "2008-08-12      0  b'Remember that adorable 9-year-old who sang a...   \n",
       "2008-08-13      0  b' U.S. refuses Israel weapons to attack Iran:...   \n",
       "2008-08-14      1  b'All the experts admit that we should legalis...   \n",
       "2008-08-15      1  b\"Mom of missing gay man: Too bad he's not a 2...   \n",
       "2008-08-18      0  b'In an Afghan prison, the majority of female ...   \n",
       "2008-08-19      0  b\"Man arrested and locked up for five hours af...   \n",
       "2008-08-20      1  b'Two elderly Chinese women have been sentence...   \n",
       "2008-08-21      1  b\"British resident held in Guantanamo Bay wins...   \n",
       "\n",
       "                                                         Top2  \\\n",
       "Date                                                            \n",
       "2008-08-08            b'BREAKING: Musharraf to be impeached.'   \n",
       "2008-08-11        b'Bush puts foot down on Georgian conflict'   \n",
       "2008-08-12                 b\"Russia 'ends Georgia operation'\"   \n",
       "2008-08-13  b\"When the president ordered to attack Tskhinv...   \n",
       "2008-08-14  b'War in South Osetia - 89 pictures made by a ...   \n",
       "2008-08-15  b\"Russia: U.S. Poland Missile Deal Won't Go 'U...   \n",
       "2008-08-18          b\"Little girl, you're not ugly; they are\"   \n",
       "2008-08-19  b'The US missile defence system is the magic p...   \n",
       "2008-08-20  b'The Power of Islam: The Human Rights Council...   \n",
       "2008-08-21  b'Chinese may have killed 140 Tibetans this we...   \n",
       "\n",
       "                                                         Top3  \\\n",
       "Date                                                            \n",
       "2008-08-08  b'Russia Today: Columns of troops roll into So...   \n",
       "2008-08-11  b\"Jewish Georgian minister: Thanks to Israeli ...   \n",
       "2008-08-12  b'\"If we had no sexual harassment we would hav...   \n",
       "2008-08-13  b' Israel clears troops who killed Reuters cam...   \n",
       "2008-08-14  b'Swedish wrestler Ara Abrahamian throws away ...   \n",
       "2008-08-15  b\"The government has been accused of creating ...   \n",
       "2008-08-18  b\"Pakistan's Musharraf to Resign, Leave the Co...   \n",
       "2008-08-19  b'Schrder lambasted for blaming Russian confli...   \n",
       "2008-08-20  b\"We had 55 times more military soldiers in th...   \n",
       "2008-08-21                 b'U.S. Navy Ships Head to Georgia'   \n",
       "\n",
       "                                                         Top4  \\\n",
       "Date                                                            \n",
       "2008-08-08  b'Russian tanks are moving towards the capital...   \n",
       "2008-08-11  b'Georgian army flees in disarray as Russians ...   \n",
       "2008-08-12  b\"Al-Qa'eda is losing support in Iraq because ...   \n",
       "2008-08-13  b'Britain\\'s policy of being tough on drugs is...   \n",
       "2008-08-14  b'Russia exaggerated the death toll in South O...   \n",
       "2008-08-15  b'The Italian government has lashed out at an ...   \n",
       "2008-08-18  b'Tornado throws a bus in Poland, captured by ...   \n",
       "2008-08-19  b'Officials: 10 French soldiers killed near Ka...   \n",
       "2008-08-20  b'\"I live here on less than a dollar a month\" ...   \n",
       "2008-08-21           b'Hacker uncovers Chinese olympic fraud'   \n",
       "\n",
       "                                                         Top5  \\\n",
       "Date                                                            \n",
       "2008-08-08  b\"Afghan children raped with 'impunity,' U.N. ...   \n",
       "2008-08-11      b\"Olympic opening ceremony fireworks 'faked'\"   \n",
       "2008-08-12  b'Ceasefire in Georgia: Putin Outmaneuvers the...   \n",
       "2008-08-13  b'Body of 14 year old found in trunk; Latest (...   \n",
       "2008-08-14  b'Missile That Killed 9 Inside Pakistan May Ha...   \n",
       "2008-08-15  b'Gorbachev: Georgia started conflict in S. Os...   \n",
       "2008-08-18  b\"Britain's terror laws have left me and my fa...   \n",
       "2008-08-19  b'These ten laws make China a totalitarian was...   \n",
       "2008-08-20         b'Russia sends aircraft carrier to Syria.'   \n",
       "2008-08-21  b\"If you've ever wondered what Kim Jong Il was...   \n",
       "\n",
       "                                                         Top6  \\\n",
       "Date                                                            \n",
       "2008-08-08  b'150 Russian tanks have entered South Ossetia...   \n",
       "2008-08-11  b'What were the Mossad with fraudulent New Zea...   \n",
       "2008-08-12  b'Why Microsoft and Intel tried to kill the XO...   \n",
       "2008-08-13  b'China has moved 10 *million* quake survivors...   \n",
       "2008-08-14  b\"Rushdie Condemns Random House's Refusal to P...   \n",
       "2008-08-15  b\"China fakes more than your girlfriend; 'Ethn...   \n",
       "2008-08-18               b\"Iran 'fires satellite into space'\"   \n",
       "2008-08-19                       b'Russia seizes US vehicles'   \n",
       "2008-08-20  b'The American people should be eternally grat...   \n",
       "2008-08-21      b\"Russia's Nuclear Threat Is More Than Words\"   \n",
       "\n",
       "                                                         Top7  \\\n",
       "Date                                                            \n",
       "2008-08-08  b\"Breaking: Georgia invades South Ossetia, Rus...   \n",
       "2008-08-11  b'Russia angered by Israeli military sale to G...   \n",
       "2008-08-12  b'Stratfor: The Russo-Georgian War and the Bal...   \n",
       "2008-08-13  b\"Bush announces Operation Get All Up In Russi...   \n",
       "2008-08-14  b'Poland and US agree to missle defense deal. ...   \n",
       "2008-08-15  b\"The UN's criticism of freedom of expression ...   \n",
       "2008-08-18  b'Rights of Non-Muslims restricted by new Mald...   \n",
       "2008-08-19  b\"Muslims are only 4% of Denmark's 5.4 million...   \n",
       "2008-08-20  b'Abkhazia officially appeals to Russia for in...   \n",
       "2008-08-21  b'Czech President: \"I must protest aloud again...   \n",
       "\n",
       "                                                         Top8  \\\n",
       "Date                                                            \n",
       "2008-08-08  b\"The 'enemy combatent' trials are nothing but...   \n",
       "2008-08-11  b'An American citizen living in S.Ossetia blam...   \n",
       "2008-08-12  b\"I'm Trying to Get a Sense of This Whole Geor...   \n",
       "2008-08-13             b'Russian forces sink Georgian ships '   \n",
       "2008-08-14  b'Will the Russians conquer Tblisi? Bet on it,...   \n",
       "2008-08-15  b'Russian general threatens nuclear strike on ...   \n",
       "2008-08-18  b'Tour of Tskhinvali undercuts Russian version...   \n",
       "2008-08-19  b'Taliban Forces Kill 10 French Soldiers and R...   \n",
       "2008-08-20  b'Russia warns of response \"beyond diplomacy\" ...   \n",
       "2008-08-21  b'50% Of All Food Produced Is Wasted Before It...   \n",
       "\n",
       "                                                         Top9  ...  \\\n",
       "Date                                                           ...   \n",
       "2008-08-08  b'Georgian troops retreat from S. Osettain cap...  ...   \n",
       "2008-08-11  b'Welcome To World War IV! Now In High Definit...  ...   \n",
       "2008-08-12  b\"The US military was surprised by the timing ...  ...   \n",
       "2008-08-13  b\"The commander of a Navy air reconnaissance s...  ...   \n",
       "2008-08-14  b'Russia exaggerating South Ossetian death tol...  ...   \n",
       "2008-08-15  b'Russia can inspect Polish missile defence site'  ...   \n",
       "2008-08-18  b'The Great Resource War is already underway, ...  ...   \n",
       "2008-08-19  b'Assaults, kidnappings and killings of humani...  ...   \n",
       "2008-08-20  b'India Sets Aside 40% of Regional Wasteland f...  ...   \n",
       "2008-08-21  b\"China sentences Alive in Baghdad blogger, GR...  ...   \n",
       "\n",
       "                                                        Top16  \\\n",
       "Date                                                            \n",
       "2008-08-08  b'Georgia Invades South Ossetia - if Russia ge...   \n",
       "2008-08-11  b'Israel and the US behind the Georgian aggres...   \n",
       "2008-08-12  b'U.S. troops still in Georgia (did you know t...   \n",
       "2008-08-13                      b'Elephants extinct by 2020?'   \n",
       "2008-08-14  b'Bank analyst forecast Georgian crisis 2 days...   \n",
       "2008-08-15  b'Why are redditors generally supportive of Ru...   \n",
       "2008-08-18                             b'MI5 seeks gay spies'   \n",
       "2008-08-19  b'Brazil Will Play Military War Game to Defend...   \n",
       "2008-08-20                               b'Grote Markt [PIC]'   \n",
       "2008-08-21                 b'Russia condemns US missile deal'   \n",
       "\n",
       "                                                        Top17  \\\n",
       "Date                                                            \n",
       "2008-08-08                b'Al-Qaeda Faces Islamist Backlash'   \n",
       "2008-08-11  b'\"Do not believe TV, neither Russian nor Geor...   \n",
       "2008-08-12       b'Why Russias response to Georgia was right'   \n",
       "2008-08-13  b'US humanitarian missions soon in Georgia - i...   \n",
       "2008-08-14  b\"Georgia confict could set back Russia's US r...   \n",
       "2008-08-15  b'Johann Hari: We need to stop being such cowa...   \n",
       "2008-08-18  b' New porn channel lets Canadians strut their...   \n",
       "2008-08-19  b'16,000 fine for British woman caught sharing...   \n",
       "2008-08-20  b'Russia has informed Norway that it plans to ...   \n",
       "2008-08-21  b'NATOs decision to freeze relations with Mosc...   \n",
       "\n",
       "                                                        Top18  \\\n",
       "Date                                                            \n",
       "2008-08-08  b'Condoleezza Rice: \"The US would not act to p...   \n",
       "2008-08-11  b'Riots are still going on in Montreal (Canada...   \n",
       "2008-08-12  b'Gorbachev accuses U.S. of making a \"serious ...   \n",
       "2008-08-13             b\"Georgia's DDOS came from US sources\"   \n",
       "2008-08-14  b'War in the Caucasus is as much the product o...   \n",
       "2008-08-15  b'US officials have said that their military p...   \n",
       "2008-08-18  b'The Dangerous Neighbor: Vladimir Putin Takes...   \n",
       "2008-08-19  b'102-year-old grandma is oldest person on Fac...   \n",
       "2008-08-20  b\"'What Are the Aims of this War?': French Opp...   \n",
       "2008-08-21  b'Sweet Sixteen or Fraudulent Fourteen,  Hacke...   \n",
       "\n",
       "                                                        Top19  \\\n",
       "Date                                                            \n",
       "2008-08-08  b'This is a busy day:  The European Union has ...   \n",
       "2008-08-11    b'China to overtake US as largest manufacturer'   \n",
       "2008-08-12         b'Russia, Georgia, and NATO: Cold War Two'   \n",
       "2008-08-13  b'Russian convoy heads into Georgia, violating...   \n",
       "2008-08-14  b'\"Non-media\" photos of South Ossetia/Georgia ...   \n",
       "2008-08-15  b'Israel clears troops who killed Reuters came...   \n",
       "2008-08-18        b'Israel opinion page: Russians are saner.'   \n",
       "2008-08-19  b'Today 5 years ago - August 19th 2003. Bombin...   \n",
       "2008-08-20    b'Bush Covered up Musharraf Ties with Al Qaeda'   \n",
       "2008-08-21  b'If Russias feeling churlish, they can pretty...   \n",
       "\n",
       "                                                        Top20  \\\n",
       "Date                                                            \n",
       "2008-08-08  b\"Georgia will withdraw 1,000 soldiers from Ir...   \n",
       "2008-08-11                     b'War in South Ossetia [PICS]'   \n",
       "2008-08-12  b'Remember that adorable 62-year-old who led y...   \n",
       "2008-08-13  b'Israeli defence minister: US against strike ...   \n",
       "2008-08-14  b'Georgian TV reporter shot by Russian sniper ...   \n",
       "2008-08-15  b'Unenforceable laws encourage cops to escalat...   \n",
       "2008-08-18                                     b\"NATO's Hour\"   \n",
       "2008-08-19  b'US national Ken Haywood, whose computer was ...   \n",
       "2008-08-20    b'Mikhail Gorbachev: Russia Never Wanted a War'   \n",
       "2008-08-21    b'Chinese Gymnasts 14, Official Document Shows'   \n",
       "\n",
       "                                                        Top21  \\\n",
       "Date                                                            \n",
       "2008-08-08  b'Why the Pentagon Thinks Attacking Iran is a ...   \n",
       "2008-08-11  b'Israeli Physicians Group Condemns State Tort...   \n",
       "2008-08-12          b'War in Georgia: The Israeli connection'   \n",
       "2008-08-13                     b'Gorbachev: We Had No Choice'   \n",
       "2008-08-14  b'Saudi Arabia: Mother moves to block child ma...   \n",
       "2008-08-15        b'What Chinese pollution really looks like'   \n",
       "2008-08-18  b'Georgian President Saakashvili Eats His Tie ...   \n",
       "2008-08-19  b' Taliban kill 10 French troops near Afghan c...   \n",
       "2008-08-20  b'Germans urge tougher laws after new privacy ...   \n",
       "2008-08-21  b'Suicide attack kills at least 50 at Pakistan...   \n",
       "\n",
       "                                                        Top22  \\\n",
       "Date                                                            \n",
       "2008-08-08  b'Caucasus in crisis: Georgia invades South Os...   \n",
       "2008-08-11  b' Russia has just beaten the United States ov...   \n",
       "2008-08-12  b'All signs point to the US encouraging Georgi...   \n",
       "2008-08-13  b'Witness: Russian forces head towards Tbilisi...   \n",
       "2008-08-14   b'Taliban wages war on humanitarian aid workers'   \n",
       "2008-08-15  b'Hacker Kidnaps and Tortures Informant, Posts...   \n",
       "2008-08-18  b'No Chicken Left Behind: Animal RFID Surveill...   \n",
       "2008-08-19  b'Not Everybody Loves Offshore Wind Power in S...   \n",
       "2008-08-20  b'The Time of the Wimps: Dialogue with Russia ...   \n",
       "2008-08-21  b'The Abkhazian Parliament has approved an off...   \n",
       "\n",
       "                                                        Top23  \\\n",
       "Date                                                            \n",
       "2008-08-08  b'Indian shoe manufactory  - And again in a se...   \n",
       "2008-08-11  b'Perhaps *the* question about the Georgia - R...   \n",
       "2008-08-12  b'Christopher King argues that the US and NATO...   \n",
       "2008-08-13  b' Quarter of Russians blame U.S. for conflict...   \n",
       "2008-08-14  b'Russia: World  \"can forget about\" Georgia\\'s...   \n",
       "2008-08-15  b'Bush Tells Putin: This Aggression Will Not S...   \n",
       "2008-08-18  b'Putin has given us an order that everyone mu...   \n",
       "2008-08-19  b'Taliban Forces Kill 10 French Soldiers and R...   \n",
       "2008-08-20  b'1998 Missile Strikes on Bin Laden May Have B...   \n",
       "2008-08-21  b'Georgia, Bulgaria and the Second Balkan War ...   \n",
       "\n",
       "                                                        Top24  \\\n",
       "Date                                                            \n",
       "2008-08-08  b'Visitors Suffering from Mental Illnesses Ban...   \n",
       "2008-08-11                 b'Russia is so much better at war'   \n",
       "2008-08-12                        b'America: The New Mexico?'   \n",
       "2008-08-13  b'Georgian president  says US military will ta...   \n",
       "2008-08-14  b'Darfur rebels accuse Sudan of mounting major...   \n",
       "2008-08-15          b'Georgia is all about the oil pipelines'   \n",
       "2008-08-18  b'National DNA database grows on the genes of ...   \n",
       "2008-08-19      b'Pakistan is more democratic than America. '   \n",
       "2008-08-20  b\"For a moment let's forget everything else an...   \n",
       "2008-08-21  b\"Terrorist reveals Pak's sinister designs on ...   \n",
       "\n",
       "                                                        Top25  \n",
       "Date                                                           \n",
       "2008-08-08           b\"No Help for Mexico's Kidnapping Surge\"  \n",
       "2008-08-11  b\"So this is what it's come to: trading sex fo...  \n",
       "2008-08-12  b\"BBC NEWS | Asia-Pacific | Extinction 'by man...  \n",
       "2008-08-13  b'2006: Nobel laureate Aleksander Solzhenitsyn...  \n",
       "2008-08-14  b'Philippines : Peace Advocate say Muslims nee...  \n",
       "2008-08-15  b'Rivals say they plan to remove Georgian pres...  \n",
       "2008-08-18         b'Mayor Asks Ugly Women To Visit His Town'  \n",
       "2008-08-19               b'Blaze engulfs Egyptian parliament'  \n",
       "2008-08-20      b'The First Solar Radio Station in Argentina'  \n",
       "2008-08-21  b\"International Olympic Committee launches pro...  \n",
       "\n",
       "[10 rows x 26 columns]"
      ]
     },
     "execution_count": 256,
     "metadata": {},
     "output_type": "execute_result"
    }
   ],
   "source": [
    "nlp_df.head(10)"
   ]
  },
  {
   "cell_type": "code",
   "execution_count": 4,
   "id": "ee2fa50d",
   "metadata": {
    "scrolled": true
   },
   "outputs": [
    {
     "name": "stdout",
     "output_type": "stream",
     "text": [
      "<class 'pandas.core.frame.DataFrame'>\n",
      "RangeIndex: 1989 entries, 0 to 1988\n",
      "Data columns (total 27 columns):\n",
      " #   Column  Non-Null Count  Dtype \n",
      "---  ------  --------------  ----- \n",
      " 0   Date    1989 non-null   object\n",
      " 1   Label   1989 non-null   int64 \n",
      " 2   Top1    1989 non-null   object\n",
      " 3   Top2    1989 non-null   object\n",
      " 4   Top3    1989 non-null   object\n",
      " 5   Top4    1989 non-null   object\n",
      " 6   Top5    1989 non-null   object\n",
      " 7   Top6    1989 non-null   object\n",
      " 8   Top7    1989 non-null   object\n",
      " 9   Top8    1989 non-null   object\n",
      " 10  Top9    1989 non-null   object\n",
      " 11  Top10   1989 non-null   object\n",
      " 12  Top11   1989 non-null   object\n",
      " 13  Top12   1989 non-null   object\n",
      " 14  Top13   1989 non-null   object\n",
      " 15  Top14   1989 non-null   object\n",
      " 16  Top15   1989 non-null   object\n",
      " 17  Top16   1989 non-null   object\n",
      " 18  Top17   1989 non-null   object\n",
      " 19  Top18   1989 non-null   object\n",
      " 20  Top19   1989 non-null   object\n",
      " 21  Top20   1989 non-null   object\n",
      " 22  Top21   1989 non-null   object\n",
      " 23  Top22   1989 non-null   object\n",
      " 24  Top23   1988 non-null   object\n",
      " 25  Top24   1986 non-null   object\n",
      " 26  Top25   1986 non-null   object\n",
      "dtypes: int64(1), object(26)\n",
      "memory usage: 419.7+ KB\n"
     ]
    }
   ],
   "source": [
    "#No null values\n",
    "\n",
    "nlp_df.info()"
   ]
  },
  {
   "cell_type": "code",
   "execution_count": 279,
   "id": "d12b0441",
   "metadata": {},
   "outputs": [
    {
     "data": {
      "image/png": "[encoded data removed]",
      "text/plain": [
       "<Figure size 432x288 with 1 Axes>"
      ]
     },
     "metadata": {},
     "output_type": "display_data"
    }
   ],
   "source": [
    "nlp_df['Label'].value_counts().plot.pie(autopct=\"%.1f%%\", labels = ['Market Down(0)', 'Market Up/Same(1)']);\n",
    "plt.title('Target Class Distribution');\n",
    "plt.ylabel(' ');"
   ]
  },
  {
   "cell_type": "code",
   "execution_count": 5,
   "id": "91b212c5",
   "metadata": {},
   "outputs": [],
   "source": [
    "train_df = nlp_df[nlp_df['Date'] < '2015-01-01']\n",
    "test_df = nlp_df[nlp_df['Date'] > '2014-12-31']"
   ]
  },
  {
   "cell_type": "code",
   "execution_count": 6,
   "id": "3a8c8238",
   "metadata": {
    "scrolled": true
   },
   "outputs": [
    {
     "data": {
      "text/html": [
       "<div>\n",
       "<style scoped>\n",
       "    .dataframe tbody tr th:only-of-type {\n",
       "        vertical-align: middle;\n",
       "    }\n",
       "\n",
       "    .dataframe tbody tr th {\n",
       "        vertical-align: top;\n",
       "    }\n",
       "\n",
       "    .dataframe thead th {\n",
       "        text-align: right;\n",
       "    }\n",
       "</style>\n",
       "<table border=\"1\" class=\"dataframe\">\n",
       "  <thead>\n",
       "    <tr style=\"text-align: right;\">\n",
       "      <th></th>\n",
       "      <th>Date</th>\n",
       "      <th>Label</th>\n",
       "      <th>Top1</th>\n",
       "      <th>Top2</th>\n",
       "      <th>Top3</th>\n",
       "      <th>Top4</th>\n",
       "      <th>Top5</th>\n",
       "      <th>Top6</th>\n",
       "      <th>Top7</th>\n",
       "      <th>Top8</th>\n",
       "      <th>...</th>\n",
       "      <th>Top16</th>\n",
       "      <th>Top17</th>\n",
       "      <th>Top18</th>\n",
       "      <th>Top19</th>\n",
       "      <th>Top20</th>\n",
       "      <th>Top21</th>\n",
       "      <th>Top22</th>\n",
       "      <th>Top23</th>\n",
       "      <th>Top24</th>\n",
       "      <th>Top25</th>\n",
       "    </tr>\n",
       "  </thead>\n",
       "  <tbody>\n",
       "    <tr>\n",
       "      <th>0</th>\n",
       "      <td>2008-08-08</td>\n",
       "      <td>0</td>\n",
       "      <td>b\"Georgia 'downs two Russian warplanes' as cou...</td>\n",
       "      <td>b'BREAKING: Musharraf to be impeached.'</td>\n",
       "      <td>b'Russia Today: Columns of troops roll into So...</td>\n",
       "      <td>b'Russian tanks are moving towards the capital...</td>\n",
       "      <td>b\"Afghan children raped with 'impunity,' U.N. ...</td>\n",
       "      <td>b'150 Russian tanks have entered South Ossetia...</td>\n",
       "      <td>b\"Breaking: Georgia invades South Ossetia, Rus...</td>\n",
       "      <td>b\"The 'enemy combatent' trials are nothing but...</td>\n",
       "      <td>...</td>\n",
       "      <td>b'Georgia Invades South Ossetia - if Russia ge...</td>\n",
       "      <td>b'Al-Qaeda Faces Islamist Backlash'</td>\n",
       "      <td>b'Condoleezza Rice: \"The US would not act to p...</td>\n",
       "      <td>b'This is a busy day:  The European Union has ...</td>\n",
       "      <td>b\"Georgia will withdraw 1,000 soldiers from Ir...</td>\n",
       "      <td>b'Why the Pentagon Thinks Attacking Iran is a ...</td>\n",
       "      <td>b'Caucasus in crisis: Georgia invades South Os...</td>\n",
       "      <td>b'Indian shoe manufactory  - And again in a se...</td>\n",
       "      <td>b'Visitors Suffering from Mental Illnesses Ban...</td>\n",
       "      <td>b\"No Help for Mexico's Kidnapping Surge\"</td>\n",
       "    </tr>\n",
       "    <tr>\n",
       "      <th>1</th>\n",
       "      <td>2008-08-11</td>\n",
       "      <td>1</td>\n",
       "      <td>b'Why wont America and Nato help us? If they w...</td>\n",
       "      <td>b'Bush puts foot down on Georgian conflict'</td>\n",
       "      <td>b\"Jewish Georgian minister: Thanks to Israeli ...</td>\n",
       "      <td>b'Georgian army flees in disarray as Russians ...</td>\n",
       "      <td>b\"Olympic opening ceremony fireworks 'faked'\"</td>\n",
       "      <td>b'What were the Mossad with fraudulent New Zea...</td>\n",
       "      <td>b'Russia angered by Israeli military sale to G...</td>\n",
       "      <td>b'An American citizen living in S.Ossetia blam...</td>\n",
       "      <td>...</td>\n",
       "      <td>b'Israel and the US behind the Georgian aggres...</td>\n",
       "      <td>b'\"Do not believe TV, neither Russian nor Geor...</td>\n",
       "      <td>b'Riots are still going on in Montreal (Canada...</td>\n",
       "      <td>b'China to overtake US as largest manufacturer'</td>\n",
       "      <td>b'War in South Ossetia [PICS]'</td>\n",
       "      <td>b'Israeli Physicians Group Condemns State Tort...</td>\n",
       "      <td>b' Russia has just beaten the United States ov...</td>\n",
       "      <td>b'Perhaps *the* question about the Georgia - R...</td>\n",
       "      <td>b'Russia is so much better at war'</td>\n",
       "      <td>b\"So this is what it's come to: trading sex fo...</td>\n",
       "    </tr>\n",
       "    <tr>\n",
       "      <th>2</th>\n",
       "      <td>2008-08-12</td>\n",
       "      <td>0</td>\n",
       "      <td>b'Remember that adorable 9-year-old who sang a...</td>\n",
       "      <td>b\"Russia 'ends Georgia operation'\"</td>\n",
       "      <td>b'\"If we had no sexual harassment we would hav...</td>\n",
       "      <td>b\"Al-Qa'eda is losing support in Iraq because ...</td>\n",
       "      <td>b'Ceasefire in Georgia: Putin Outmaneuvers the...</td>\n",
       "      <td>b'Why Microsoft and Intel tried to kill the XO...</td>\n",
       "      <td>b'Stratfor: The Russo-Georgian War and the Bal...</td>\n",
       "      <td>b\"I'm Trying to Get a Sense of This Whole Geor...</td>\n",
       "      <td>...</td>\n",
       "      <td>b'U.S. troops still in Georgia (did you know t...</td>\n",
       "      <td>b'Why Russias response to Georgia was right'</td>\n",
       "      <td>b'Gorbachev accuses U.S. of making a \"serious ...</td>\n",
       "      <td>b'Russia, Georgia, and NATO: Cold War Two'</td>\n",
       "      <td>b'Remember that adorable 62-year-old who led y...</td>\n",
       "      <td>b'War in Georgia: The Israeli connection'</td>\n",
       "      <td>b'All signs point to the US encouraging Georgi...</td>\n",
       "      <td>b'Christopher King argues that the US and NATO...</td>\n",
       "      <td>b'America: The New Mexico?'</td>\n",
       "      <td>b\"BBC NEWS | Asia-Pacific | Extinction 'by man...</td>\n",
       "    </tr>\n",
       "    <tr>\n",
       "      <th>3</th>\n",
       "      <td>2008-08-13</td>\n",
       "      <td>0</td>\n",
       "      <td>b' U.S. refuses Israel weapons to attack Iran:...</td>\n",
       "      <td>b\"When the president ordered to attack Tskhinv...</td>\n",
       "      <td>b' Israel clears troops who killed Reuters cam...</td>\n",
       "      <td>b'Britain\\'s policy of being tough on drugs is...</td>\n",
       "      <td>b'Body of 14 year old found in trunk; Latest (...</td>\n",
       "      <td>b'China has moved 10 *million* quake survivors...</td>\n",
       "      <td>b\"Bush announces Operation Get All Up In Russi...</td>\n",
       "      <td>b'Russian forces sink Georgian ships '</td>\n",
       "      <td>...</td>\n",
       "      <td>b'Elephants extinct by 2020?'</td>\n",
       "      <td>b'US humanitarian missions soon in Georgia - i...</td>\n",
       "      <td>b\"Georgia's DDOS came from US sources\"</td>\n",
       "      <td>b'Russian convoy heads into Georgia, violating...</td>\n",
       "      <td>b'Israeli defence minister: US against strike ...</td>\n",
       "      <td>b'Gorbachev: We Had No Choice'</td>\n",
       "      <td>b'Witness: Russian forces head towards Tbilisi...</td>\n",
       "      <td>b' Quarter of Russians blame U.S. for conflict...</td>\n",
       "      <td>b'Georgian president  says US military will ta...</td>\n",
       "      <td>b'2006: Nobel laureate Aleksander Solzhenitsyn...</td>\n",
       "    </tr>\n",
       "    <tr>\n",
       "      <th>4</th>\n",
       "      <td>2008-08-14</td>\n",
       "      <td>1</td>\n",
       "      <td>b'All the experts admit that we should legalis...</td>\n",
       "      <td>b'War in South Osetia - 89 pictures made by a ...</td>\n",
       "      <td>b'Swedish wrestler Ara Abrahamian throws away ...</td>\n",
       "      <td>b'Russia exaggerated the death toll in South O...</td>\n",
       "      <td>b'Missile That Killed 9 Inside Pakistan May Ha...</td>\n",
       "      <td>b\"Rushdie Condemns Random House's Refusal to P...</td>\n",
       "      <td>b'Poland and US agree to missle defense deal. ...</td>\n",
       "      <td>b'Will the Russians conquer Tblisi? Bet on it,...</td>\n",
       "      <td>...</td>\n",
       "      <td>b'Bank analyst forecast Georgian crisis 2 days...</td>\n",
       "      <td>b\"Georgia confict could set back Russia's US r...</td>\n",
       "      <td>b'War in the Caucasus is as much the product o...</td>\n",
       "      <td>b'\"Non-media\" photos of South Ossetia/Georgia ...</td>\n",
       "      <td>b'Georgian TV reporter shot by Russian sniper ...</td>\n",
       "      <td>b'Saudi Arabia: Mother moves to block child ma...</td>\n",
       "      <td>b'Taliban wages war on humanitarian aid workers'</td>\n",
       "      <td>b'Russia: World  \"can forget about\" Georgia\\'s...</td>\n",
       "      <td>b'Darfur rebels accuse Sudan of mounting major...</td>\n",
       "      <td>b'Philippines : Peace Advocate say Muslims nee...</td>\n",
       "    </tr>\n",
       "    <tr>\n",
       "      <th>...</th>\n",
       "      <td>...</td>\n",
       "      <td>...</td>\n",
       "      <td>...</td>\n",
       "      <td>...</td>\n",
       "      <td>...</td>\n",
       "      <td>...</td>\n",
       "      <td>...</td>\n",
       "      <td>...</td>\n",
       "      <td>...</td>\n",
       "      <td>...</td>\n",
       "      <td>...</td>\n",
       "      <td>...</td>\n",
       "      <td>...</td>\n",
       "      <td>...</td>\n",
       "      <td>...</td>\n",
       "      <td>...</td>\n",
       "      <td>...</td>\n",
       "      <td>...</td>\n",
       "      <td>...</td>\n",
       "      <td>...</td>\n",
       "      <td>...</td>\n",
       "    </tr>\n",
       "    <tr>\n",
       "      <th>1606</th>\n",
       "      <td>2014-12-24</td>\n",
       "      <td>1</td>\n",
       "      <td>Death toll among Qatars 2022 World Cup workers...</td>\n",
       "      <td>Fishing Supertrawlers to be banned permanently...</td>\n",
       "      <td>Indian telecommunications company Airtel viola...</td>\n",
       "      <td>North Korea's Internet is down again; second b...</td>\n",
       "      <td>Jakarta to ban virginity tests for female civi...</td>\n",
       "      <td>Workers at Chinese iPhone factories are pressu...</td>\n",
       "      <td>Thousands in Spain protest ban on demonstratio...</td>\n",
       "      <td>London activists occupy 5-storey former bank i...</td>\n",
       "      <td>...</td>\n",
       "      <td>Scientists discover oldest stone tool ever fou...</td>\n",
       "      <td>ISIS claims capture of Jordanian pilot after p...</td>\n",
       "      <td>Russian prime minister warns of 'deep recessio...</td>\n",
       "      <td>Russia says France must fulfil Mistral contrac...</td>\n",
       "      <td>Secret flight linking Israel to the UAE reveal...</td>\n",
       "      <td>Ukraine temporarily cuts off power supplies to...</td>\n",
       "      <td>Coalition plane 'crashes in Syria'</td>\n",
       "      <td>Across the world 'Silent Night' to honor WWI X...</td>\n",
       "      <td>Elderly Nigerians Rounded Up And Shot Dead</td>\n",
       "      <td>Russia May Be Cut to Junk rating as S&amp;amp;P Sa...</td>\n",
       "    </tr>\n",
       "    <tr>\n",
       "      <th>1607</th>\n",
       "      <td>2014-12-26</td>\n",
       "      <td>1</td>\n",
       "      <td>Saudis are eagerly awaiting the approval of a ...</td>\n",
       "      <td>Due to the fall in oil prices, Saudi Arabia is...</td>\n",
       "      <td>Bill giving government the power to shutdown t...</td>\n",
       "      <td>A struggle for women's rights is brewing withi...</td>\n",
       "      <td>Putin cancels New Year's Holiday for governmen...</td>\n",
       "      <td>Ireland is siding with Microsoft in its legal ...</td>\n",
       "      <td>More than 80 people including women and childr...</td>\n",
       "      <td>The Syrian Army has killed nearly 5,000 Islami...</td>\n",
       "      <td>...</td>\n",
       "      <td>Senior UN officials expelled from Sudan follow...</td>\n",
       "      <td>Mauritania journalist sentenced to death for a...</td>\n",
       "      <td>Kim Dotcom Makes Deal with LizardSquad to stop...</td>\n",
       "      <td>Ukraine peace talks called off</td>\n",
       "      <td>Tibetan protests reported in China's Sichuan</td>\n",
       "      <td>New Study Adds to Skepticism Among Security Ex...</td>\n",
       "      <td>US relocates 3,000 MRAPs, other military gear ...</td>\n",
       "      <td>Russia's new military doctrine names NATO as a...</td>\n",
       "      <td>Protesters in Mexico claim that German arms ma...</td>\n",
       "      <td>A leading Russian elected official on Thursday...</td>\n",
       "    </tr>\n",
       "    <tr>\n",
       "      <th>1608</th>\n",
       "      <td>2014-12-29</td>\n",
       "      <td>0</td>\n",
       "      <td>Solar Power Storage Prices Drop 25% In Germany...</td>\n",
       "      <td>North Korea Hit Again By Internet Outage; Expe...</td>\n",
       "      <td>ARCHAEOLOGY - Massive ancient underground city...</td>\n",
       "      <td>Reopen investigation into Westminster pedophil...</td>\n",
       "      <td>Taliban declare 'defeat' of U.S., allies in Af...</td>\n",
       "      <td>British Falklands defence review after militar...</td>\n",
       "      <td>Virgin Confirms Fault On Plane Circling Over UK</td>\n",
       "      <td>Photo of 'women murdered for refusing sex jiha...</td>\n",
       "      <td>...</td>\n",
       "      <td>Islamic State executed nearly 2,000 people in ...</td>\n",
       "      <td>The leader of one of Mexico's first anti-crime...</td>\n",
       "      <td>Gmail has been blocked in China</td>\n",
       "      <td>Egyptian writer to face trial for 'insulting I...</td>\n",
       "      <td>Reports reveal scale of destruction of Syrias ...</td>\n",
       "      <td>Russia will supply coal and electricity to Kie...</td>\n",
       "      <td>ISIS executes more doctors in Mosul</td>\n",
       "      <td>Russia shows first sign of recession as GDP co...</td>\n",
       "      <td>AirAsia plane likely 'at bottom of the sea,' s...</td>\n",
       "      <td>AirAsia Flight's Altitude Request Was Refused</td>\n",
       "    </tr>\n",
       "    <tr>\n",
       "      <th>1609</th>\n",
       "      <td>2014-12-30</td>\n",
       "      <td>0</td>\n",
       "      <td>China businessman jailed for 13 years for buyi...</td>\n",
       "      <td>AirAsia live: Emergency slide, plane door seen...</td>\n",
       "      <td>AirAsia plane wreckage found, bodies being rec...</td>\n",
       "      <td>Scotland confirms case of Ebola - Ebola cases ...</td>\n",
       "      <td>Pope Francis to Catholics: It's time to take a...</td>\n",
       "      <td>Oil hits five-and-a-half-year low below $57 on...</td>\n",
       "      <td>\"Lizard Squad\" members who ruined Christmas fo...</td>\n",
       "      <td>Two students in Thailand face up to 15 years i...</td>\n",
       "      <td>...</td>\n",
       "      <td>Turkey is being used as one of the primary rou...</td>\n",
       "      <td>Swedish mosque set ablaze in second suspected ...</td>\n",
       "      <td>Cybersecurity Firm Identifies Six In Sony Hack...</td>\n",
       "      <td>The U.N. General Assembly voted unanimously Mo...</td>\n",
       "      <td>\"The regime must be destroyed\": Alexei Navalny...</td>\n",
       "      <td>Aleksei Navalny, Russian opposition leader, is...</td>\n",
       "      <td>Search area for Air Asia QZ8501 expanded, stil...</td>\n",
       "      <td>Ebola case confirmed in Glasgow | World news</td>\n",
       "      <td>AirAsia plane carrying 153 people overshoots r...</td>\n",
       "      <td>One of China's most industrialized cities has ...</td>\n",
       "    </tr>\n",
       "    <tr>\n",
       "      <th>1610</th>\n",
       "      <td>2014-12-31</td>\n",
       "      <td>0</td>\n",
       "      <td>AirAsia flight found at the bottom of the Java...</td>\n",
       "      <td>North Korean defector details 'human experimen...</td>\n",
       "      <td>Korean Air ex-executive Cho Hyun-ah arrested -...</td>\n",
       "      <td>South Korean to drop Sony film \"The Interview\"...</td>\n",
       "      <td>U.S. opening of oil export widens battle: The ...</td>\n",
       "      <td>FBI agents investigating the Sony Pictures hac...</td>\n",
       "      <td>Indian Government Orders Blocking of 32 Websit...</td>\n",
       "      <td>Russia annual inflation jumps to 11.4% as roub...</td>\n",
       "      <td>...</td>\n",
       "      <td>Newly published NSA documents show agency coul...</td>\n",
       "      <td>Britain says it cannot support new Palestinian...</td>\n",
       "      <td>Bolivias Morales: US 'Backs Drug Trafficking'</td>\n",
       "      <td>Euro zone politicians are not obliged to rescu...</td>\n",
       "      <td>Greece Dissolves Parliament to Prepare for Ear...</td>\n",
       "      <td>German Chancellor Angela Merkel in a New Year'...</td>\n",
       "      <td>Al Shabaab leader killed in U.S. air strike in...</td>\n",
       "      <td>New solar power material converts 90 percent o...</td>\n",
       "      <td>China launches website laying claim to Senkaku...</td>\n",
       "      <td>At Least 33 Killed in Yemen Suicide Bombing</td>\n",
       "    </tr>\n",
       "  </tbody>\n",
       "</table>\n",
       "<p>1611 rows × 27 columns</p>\n",
       "</div>"
      ],
      "text/plain": [
       "            Date  Label                                               Top1  \\\n",
       "0     2008-08-08      0  b\"Georgia 'downs two Russian warplanes' as cou...   \n",
       "1     2008-08-11      1  b'Why wont America and Nato help us? If they w...   \n",
       "2     2008-08-12      0  b'Remember that adorable 9-year-old who sang a...   \n",
       "3     2008-08-13      0  b' U.S. refuses Israel weapons to attack Iran:...   \n",
       "4     2008-08-14      1  b'All the experts admit that we should legalis...   \n",
       "...          ...    ...                                                ...   \n",
       "1606  2014-12-24      1  Death toll among Qatars 2022 World Cup workers...   \n",
       "1607  2014-12-26      1  Saudis are eagerly awaiting the approval of a ...   \n",
       "1608  2014-12-29      0  Solar Power Storage Prices Drop 25% In Germany...   \n",
       "1609  2014-12-30      0  China businessman jailed for 13 years for buyi...   \n",
       "1610  2014-12-31      0  AirAsia flight found at the bottom of the Java...   \n",
       "\n",
       "                                                   Top2  \\\n",
       "0               b'BREAKING: Musharraf to be impeached.'   \n",
       "1           b'Bush puts foot down on Georgian conflict'   \n",
       "2                    b\"Russia 'ends Georgia operation'\"   \n",
       "3     b\"When the president ordered to attack Tskhinv...   \n",
       "4     b'War in South Osetia - 89 pictures made by a ...   \n",
       "...                                                 ...   \n",
       "1606  Fishing Supertrawlers to be banned permanently...   \n",
       "1607  Due to the fall in oil prices, Saudi Arabia is...   \n",
       "1608  North Korea Hit Again By Internet Outage; Expe...   \n",
       "1609  AirAsia live: Emergency slide, plane door seen...   \n",
       "1610  North Korean defector details 'human experimen...   \n",
       "\n",
       "                                                   Top3  \\\n",
       "0     b'Russia Today: Columns of troops roll into So...   \n",
       "1     b\"Jewish Georgian minister: Thanks to Israeli ...   \n",
       "2     b'\"If we had no sexual harassment we would hav...   \n",
       "3     b' Israel clears troops who killed Reuters cam...   \n",
       "4     b'Swedish wrestler Ara Abrahamian throws away ...   \n",
       "...                                                 ...   \n",
       "1606  Indian telecommunications company Airtel viola...   \n",
       "1607  Bill giving government the power to shutdown t...   \n",
       "1608  ARCHAEOLOGY - Massive ancient underground city...   \n",
       "1609  AirAsia plane wreckage found, bodies being rec...   \n",
       "1610  Korean Air ex-executive Cho Hyun-ah arrested -...   \n",
       "\n",
       "                                                   Top4  \\\n",
       "0     b'Russian tanks are moving towards the capital...   \n",
       "1     b'Georgian army flees in disarray as Russians ...   \n",
       "2     b\"Al-Qa'eda is losing support in Iraq because ...   \n",
       "3     b'Britain\\'s policy of being tough on drugs is...   \n",
       "4     b'Russia exaggerated the death toll in South O...   \n",
       "...                                                 ...   \n",
       "1606  North Korea's Internet is down again; second b...   \n",
       "1607  A struggle for women's rights is brewing withi...   \n",
       "1608  Reopen investigation into Westminster pedophil...   \n",
       "1609  Scotland confirms case of Ebola - Ebola cases ...   \n",
       "1610  South Korean to drop Sony film \"The Interview\"...   \n",
       "\n",
       "                                                   Top5  \\\n",
       "0     b\"Afghan children raped with 'impunity,' U.N. ...   \n",
       "1         b\"Olympic opening ceremony fireworks 'faked'\"   \n",
       "2     b'Ceasefire in Georgia: Putin Outmaneuvers the...   \n",
       "3     b'Body of 14 year old found in trunk; Latest (...   \n",
       "4     b'Missile That Killed 9 Inside Pakistan May Ha...   \n",
       "...                                                 ...   \n",
       "1606  Jakarta to ban virginity tests for female civi...   \n",
       "1607  Putin cancels New Year's Holiday for governmen...   \n",
       "1608  Taliban declare 'defeat' of U.S., allies in Af...   \n",
       "1609  Pope Francis to Catholics: It's time to take a...   \n",
       "1610  U.S. opening of oil export widens battle: The ...   \n",
       "\n",
       "                                                   Top6  \\\n",
       "0     b'150 Russian tanks have entered South Ossetia...   \n",
       "1     b'What were the Mossad with fraudulent New Zea...   \n",
       "2     b'Why Microsoft and Intel tried to kill the XO...   \n",
       "3     b'China has moved 10 *million* quake survivors...   \n",
       "4     b\"Rushdie Condemns Random House's Refusal to P...   \n",
       "...                                                 ...   \n",
       "1606  Workers at Chinese iPhone factories are pressu...   \n",
       "1607  Ireland is siding with Microsoft in its legal ...   \n",
       "1608  British Falklands defence review after militar...   \n",
       "1609  Oil hits five-and-a-half-year low below $57 on...   \n",
       "1610  FBI agents investigating the Sony Pictures hac...   \n",
       "\n",
       "                                                   Top7  \\\n",
       "0     b\"Breaking: Georgia invades South Ossetia, Rus...   \n",
       "1     b'Russia angered by Israeli military sale to G...   \n",
       "2     b'Stratfor: The Russo-Georgian War and the Bal...   \n",
       "3     b\"Bush announces Operation Get All Up In Russi...   \n",
       "4     b'Poland and US agree to missle defense deal. ...   \n",
       "...                                                 ...   \n",
       "1606  Thousands in Spain protest ban on demonstratio...   \n",
       "1607  More than 80 people including women and childr...   \n",
       "1608    Virgin Confirms Fault On Plane Circling Over UK   \n",
       "1609  \"Lizard Squad\" members who ruined Christmas fo...   \n",
       "1610  Indian Government Orders Blocking of 32 Websit...   \n",
       "\n",
       "                                                   Top8  ...  \\\n",
       "0     b\"The 'enemy combatent' trials are nothing but...  ...   \n",
       "1     b'An American citizen living in S.Ossetia blam...  ...   \n",
       "2     b\"I'm Trying to Get a Sense of This Whole Geor...  ...   \n",
       "3                b'Russian forces sink Georgian ships '  ...   \n",
       "4     b'Will the Russians conquer Tblisi? Bet on it,...  ...   \n",
       "...                                                 ...  ...   \n",
       "1606  London activists occupy 5-storey former bank i...  ...   \n",
       "1607  The Syrian Army has killed nearly 5,000 Islami...  ...   \n",
       "1608  Photo of 'women murdered for refusing sex jiha...  ...   \n",
       "1609  Two students in Thailand face up to 15 years i...  ...   \n",
       "1610  Russia annual inflation jumps to 11.4% as roub...  ...   \n",
       "\n",
       "                                                  Top16  \\\n",
       "0     b'Georgia Invades South Ossetia - if Russia ge...   \n",
       "1     b'Israel and the US behind the Georgian aggres...   \n",
       "2     b'U.S. troops still in Georgia (did you know t...   \n",
       "3                         b'Elephants extinct by 2020?'   \n",
       "4     b'Bank analyst forecast Georgian crisis 2 days...   \n",
       "...                                                 ...   \n",
       "1606  Scientists discover oldest stone tool ever fou...   \n",
       "1607  Senior UN officials expelled from Sudan follow...   \n",
       "1608  Islamic State executed nearly 2,000 people in ...   \n",
       "1609  Turkey is being used as one of the primary rou...   \n",
       "1610  Newly published NSA documents show agency coul...   \n",
       "\n",
       "                                                  Top17  \\\n",
       "0                   b'Al-Qaeda Faces Islamist Backlash'   \n",
       "1     b'\"Do not believe TV, neither Russian nor Geor...   \n",
       "2          b'Why Russias response to Georgia was right'   \n",
       "3     b'US humanitarian missions soon in Georgia - i...   \n",
       "4     b\"Georgia confict could set back Russia's US r...   \n",
       "...                                                 ...   \n",
       "1606  ISIS claims capture of Jordanian pilot after p...   \n",
       "1607  Mauritania journalist sentenced to death for a...   \n",
       "1608  The leader of one of Mexico's first anti-crime...   \n",
       "1609  Swedish mosque set ablaze in second suspected ...   \n",
       "1610  Britain says it cannot support new Palestinian...   \n",
       "\n",
       "                                                  Top18  \\\n",
       "0     b'Condoleezza Rice: \"The US would not act to p...   \n",
       "1     b'Riots are still going on in Montreal (Canada...   \n",
       "2     b'Gorbachev accuses U.S. of making a \"serious ...   \n",
       "3                b\"Georgia's DDOS came from US sources\"   \n",
       "4     b'War in the Caucasus is as much the product o...   \n",
       "...                                                 ...   \n",
       "1606  Russian prime minister warns of 'deep recessio...   \n",
       "1607  Kim Dotcom Makes Deal with LizardSquad to stop...   \n",
       "1608                    Gmail has been blocked in China   \n",
       "1609  Cybersecurity Firm Identifies Six In Sony Hack...   \n",
       "1610      Bolivias Morales: US 'Backs Drug Trafficking'   \n",
       "\n",
       "                                                  Top19  \\\n",
       "0     b'This is a busy day:  The European Union has ...   \n",
       "1       b'China to overtake US as largest manufacturer'   \n",
       "2            b'Russia, Georgia, and NATO: Cold War Two'   \n",
       "3     b'Russian convoy heads into Georgia, violating...   \n",
       "4     b'\"Non-media\" photos of South Ossetia/Georgia ...   \n",
       "...                                                 ...   \n",
       "1606  Russia says France must fulfil Mistral contrac...   \n",
       "1607                     Ukraine peace talks called off   \n",
       "1608  Egyptian writer to face trial for 'insulting I...   \n",
       "1609  The U.N. General Assembly voted unanimously Mo...   \n",
       "1610  Euro zone politicians are not obliged to rescu...   \n",
       "\n",
       "                                                  Top20  \\\n",
       "0     b\"Georgia will withdraw 1,000 soldiers from Ir...   \n",
       "1                        b'War in South Ossetia [PICS]'   \n",
       "2     b'Remember that adorable 62-year-old who led y...   \n",
       "3     b'Israeli defence minister: US against strike ...   \n",
       "4     b'Georgian TV reporter shot by Russian sniper ...   \n",
       "...                                                 ...   \n",
       "1606  Secret flight linking Israel to the UAE reveal...   \n",
       "1607       Tibetan protests reported in China's Sichuan   \n",
       "1608  Reports reveal scale of destruction of Syrias ...   \n",
       "1609  \"The regime must be destroyed\": Alexei Navalny...   \n",
       "1610  Greece Dissolves Parliament to Prepare for Ear...   \n",
       "\n",
       "                                                  Top21  \\\n",
       "0     b'Why the Pentagon Thinks Attacking Iran is a ...   \n",
       "1     b'Israeli Physicians Group Condemns State Tort...   \n",
       "2             b'War in Georgia: The Israeli connection'   \n",
       "3                        b'Gorbachev: We Had No Choice'   \n",
       "4     b'Saudi Arabia: Mother moves to block child ma...   \n",
       "...                                                 ...   \n",
       "1606  Ukraine temporarily cuts off power supplies to...   \n",
       "1607  New Study Adds to Skepticism Among Security Ex...   \n",
       "1608  Russia will supply coal and electricity to Kie...   \n",
       "1609  Aleksei Navalny, Russian opposition leader, is...   \n",
       "1610  German Chancellor Angela Merkel in a New Year'...   \n",
       "\n",
       "                                                  Top22  \\\n",
       "0     b'Caucasus in crisis: Georgia invades South Os...   \n",
       "1     b' Russia has just beaten the United States ov...   \n",
       "2     b'All signs point to the US encouraging Georgi...   \n",
       "3     b'Witness: Russian forces head towards Tbilisi...   \n",
       "4      b'Taliban wages war on humanitarian aid workers'   \n",
       "...                                                 ...   \n",
       "1606                 Coalition plane 'crashes in Syria'   \n",
       "1607  US relocates 3,000 MRAPs, other military gear ...   \n",
       "1608                ISIS executes more doctors in Mosul   \n",
       "1609  Search area for Air Asia QZ8501 expanded, stil...   \n",
       "1610  Al Shabaab leader killed in U.S. air strike in...   \n",
       "\n",
       "                                                  Top23  \\\n",
       "0     b'Indian shoe manufactory  - And again in a se...   \n",
       "1     b'Perhaps *the* question about the Georgia - R...   \n",
       "2     b'Christopher King argues that the US and NATO...   \n",
       "3     b' Quarter of Russians blame U.S. for conflict...   \n",
       "4     b'Russia: World  \"can forget about\" Georgia\\'s...   \n",
       "...                                                 ...   \n",
       "1606  Across the world 'Silent Night' to honor WWI X...   \n",
       "1607  Russia's new military doctrine names NATO as a...   \n",
       "1608  Russia shows first sign of recession as GDP co...   \n",
       "1609       Ebola case confirmed in Glasgow | World news   \n",
       "1610  New solar power material converts 90 percent o...   \n",
       "\n",
       "                                                  Top24  \\\n",
       "0     b'Visitors Suffering from Mental Illnesses Ban...   \n",
       "1                    b'Russia is so much better at war'   \n",
       "2                           b'America: The New Mexico?'   \n",
       "3     b'Georgian president  says US military will ta...   \n",
       "4     b'Darfur rebels accuse Sudan of mounting major...   \n",
       "...                                                 ...   \n",
       "1606         Elderly Nigerians Rounded Up And Shot Dead   \n",
       "1607  Protesters in Mexico claim that German arms ma...   \n",
       "1608  AirAsia plane likely 'at bottom of the sea,' s...   \n",
       "1609  AirAsia plane carrying 153 people overshoots r...   \n",
       "1610  China launches website laying claim to Senkaku...   \n",
       "\n",
       "                                                  Top25  \n",
       "0              b\"No Help for Mexico's Kidnapping Surge\"  \n",
       "1     b\"So this is what it's come to: trading sex fo...  \n",
       "2     b\"BBC NEWS | Asia-Pacific | Extinction 'by man...  \n",
       "3     b'2006: Nobel laureate Aleksander Solzhenitsyn...  \n",
       "4     b'Philippines : Peace Advocate say Muslims nee...  \n",
       "...                                                 ...  \n",
       "1606  Russia May Be Cut to Junk rating as S&amp;P Sa...  \n",
       "1607  A leading Russian elected official on Thursday...  \n",
       "1608      AirAsia Flight's Altitude Request Was Refused  \n",
       "1609  One of China's most industrialized cities has ...  \n",
       "1610        At Least 33 Killed in Yemen Suicide Bombing  \n",
       "\n",
       "[1611 rows x 27 columns]"
      ]
     },
     "execution_count": 6,
     "metadata": {},
     "output_type": "execute_result"
    }
   ],
   "source": [
    "train_df"
   ]
  },
  {
   "cell_type": "markdown",
   "id": "b3efc122",
   "metadata": {},
   "source": [
    "## Clean Data/Pre-processing"
   ]
  },
  {
   "cell_type": "code",
   "execution_count": 7,
   "id": "dcda79a2",
   "metadata": {},
   "outputs": [],
   "source": [
    "#Cleaning data might be easier if all articles of same date are combined into one document\n",
    "\n",
    "headline_list= []\n",
    "\n",
    "for row in range(0,len(nlp_df)):\n",
    "    headline_list.append(' '.join(str(txt) for txt in nlp_df.iloc[row, 2:26]))"
   ]
  },
  {
   "cell_type": "code",
   "execution_count": 186,
   "id": "e372160f",
   "metadata": {},
   "outputs": [
    {
     "data": {
      "text/plain": [
       "'b\"Georgia \\'downs two Russian warplanes\\' as countries move to brink of war\" b\\'BREAKING: Musharraf to be impeached.\\' b\\'Russia Today: Columns of troops roll into South Ossetia; footage from fighting (YouTube)\\' b\\'Russian tanks are moving towards the capital of South Ossetia, which has reportedly been completely destroyed by Georgian artillery fire\\' b\"Afghan children raped with \\'impunity,\\' U.N. official says - this is sick, a three year old was raped and they do nothing\" b\\'150 Russian tanks have entered South Ossetia whilst Georgia shoots down two Russian jets.\\' b\"Breaking: Georgia invades South Ossetia, Russia warned it would intervene on SO\\'s side\" b\"The \\'enemy combatent\\' trials are nothing but a sham: Salim Haman has been sentenced to 5 1/2 years, but will be kept longer anyway just because they feel like it.\" b\\'Georgian troops retreat from S. Osettain capital, presumably leaving several hundred people killed. [VIDEO]\\' b\\'Did the U.S. Prep Georgia for War with Russia?\\' b\\'Rice Gives Green Light for Israel to Attack Iran: Says U.S. has no veto over Israeli military ops\\' b\\'Announcing:Class Action Lawsuit on Behalf of American Public Against the FBI\\' b\"So---Russia and Georgia are at war and the NYT\\'s top story is opening ceremonies of the Olympics?  What a fucking disgrace and yet further proof of the decline of journalism.\" b\"China tells Bush to stay out of other countries\\' affairs\" b\\'Did World War III start today?\\' b\\'Georgia Invades South Ossetia - if Russia gets involved, will NATO absorb Georgia and unleash a full scale war?\\' b\\'Al-Qaeda Faces Islamist Backlash\\' b\\'Condoleezza Rice: \"The US would not act to prevent an Israeli strike on Iran.\" Israeli Defense Minister Ehud Barak: \"Israel is prepared for uncompromising victory in the case of military hostilities.\"\\' b\\'This is a busy day:  The European Union has approved new sanctions against Iran in protest at its nuclear programme.\\' b\"Georgia will withdraw 1,000 soldiers from Iraq to help fight off Russian forces in Georgia\\'s breakaway region of South Ossetia\" b\\'Why the Pentagon Thinks Attacking Iran is a Bad Idea - US News &amp; World Report\\' b\\'Caucasus in crisis: Georgia invades South Ossetia\\' b\\'Indian shoe manufactory  - And again in a series of \"you do not like your work?\"\\' b\\'Visitors Suffering from Mental Illnesses Banned from Olympics\\''"
      ]
     },
     "execution_count": 186,
     "metadata": {},
     "output_type": "execute_result"
    }
   ],
   "source": [
    "headline_list[0]"
   ]
  },
  {
   "cell_type": "code",
   "execution_count": 9,
   "id": "cc41d61e",
   "metadata": {
    "scrolled": true
   },
   "outputs": [],
   "source": [
    "# Clean data\n",
    "\n",
    "import string\n",
    "cleaned_headlines = []\n",
    "\n",
    "for text in range(0, len(nlp_df)):\n",
    "    cleaned_headlines.append(re.sub('b[''\\'\"]', '', headline_list[text])) # remove 'b' followed by characters\n",
    "    cleaned_headlines[text] = re.sub(\"\\'\", '', cleaned_headlines[text]) # remove quotes and '\\'\n",
    "    cleaned_headlines[text] = re.sub('\\w*\\d\\w*', ' ', cleaned_headlines[text])# remove digits\n",
    "    cleaned_headlines[text] = cleaned_headlines[text].lower() # make all text lower case\n",
    "    cleaned_headlines[text] = re.sub('[%s]'% re.escape(string.punctuation), ' ', cleaned_headlines[text]) #remove punctuation"
   ]
  },
  {
   "cell_type": "code",
   "execution_count": 10,
   "id": "e470497c",
   "metadata": {
    "scrolled": true
   },
   "outputs": [
    {
     "data": {
      "text/plain": [
       "'georgia downs two russian warplanes as countries move to brink of war  breaking  musharraf to be impeached  russia today  columns of troops roll into south ossetia  footage from fighting  youtube  russian tanks are moving towards the capital of south ossetia  which has reportedly been completely destroyed by georgian artillery fire afghan children raped with impunity  u n  official says   this is sick  a three year old was raped and they do nothing    russian tanks have entered south ossetia whilst georgia shoots down two russian jets  breaking  georgia invades south ossetia  russia warned it would intervene on sos side  the enemy combatent trials are nothing but a sham  salim haman has been sentenced to       years  but will be kept longer anyway just because they feel like it   georgian troops retreat from s  osettain capital  presumably leaving several hundred people killed   video  did the u s  prep georgia for war with russia  rice gives green light for israel to attack iran  says u s  has no veto over israeli military ops announcing class action lawsuit on behalf of american public against the fbi so   russia and georgia are at war and the nyts top story is opening ceremonies of the olympics   what a fucking disgrace and yet further proof of the decline of journalism   china tells bush to stay out of other countries affairs  did world war iii start today  georgia invades south ossetia   if russia gets involved  will nato absorb georgia and unleash a full scale war  al qaeda faces islamist backlash condoleezza rice   the us would not act to prevent an israeli strike on iran   israeli defense minister ehud barak   israel is prepared for uncompromising victory in the case of military hostilities   this is a busy day   the european union has approved new sanctions against iran in protest at its nuclear programme  georgia will withdraw     soldiers from iraq to help fight off russian forces in georgias breakaway region of south ossetia  why the pentagon thinks attacking iran is a bad idea   us news  amp  world report caucasus in crisis  georgia invades south ossetia indian shoe manufactory    and again in a series of  you do not like your work   visitors suffering from mental illnesses banned from olympics'"
      ]
     },
     "execution_count": 10,
     "metadata": {},
     "output_type": "execute_result"
    }
   ],
   "source": [
    "cleaned_headlines[0]"
   ]
  },
  {
   "cell_type": "code",
   "execution_count": 11,
   "id": "81c27d9c",
   "metadata": {},
   "outputs": [
    {
     "data": {
      "text/plain": [
       "1989"
      ]
     },
     "execution_count": 11,
     "metadata": {},
     "output_type": "execute_result"
    }
   ],
   "source": [
    "len(cleaned_headlines)"
   ]
  },
  {
   "cell_type": "code",
   "execution_count": null,
   "id": "2f1bcb0f",
   "metadata": {},
   "outputs": [],
   "source": [
    "# countvector=CountVectorizer(ngram_range=(2,2))\n",
    "# headline_train_tfm =countvector.fit_transform(cleaned_headlines_train)"
   ]
  },
  {
   "cell_type": "code",
   "execution_count": null,
   "id": "066d28d2",
   "metadata": {},
   "outputs": [],
   "source": [
    "# randomclassifier=RandomForestClassifier(n_estimators=200,criterion='entropy')\n",
    "# randomclassifier.fit(headline_train_tfm,train_df['Label'])"
   ]
  },
  {
   "cell_type": "code",
   "execution_count": null,
   "id": "1c3e5f45",
   "metadata": {},
   "outputs": [],
   "source": [
    "# headline_test_tfm = countvector.transform(cleaned_headlines_test)\n",
    "# predictions = randomclassifier.predict(headline_test_tfm)"
   ]
  },
  {
   "cell_type": "code",
   "execution_count": null,
   "id": "de90e001",
   "metadata": {},
   "outputs": [],
   "source": [
    "# from sklearn.metrics import classification_report,confusion_matrix,accuracy_score"
   ]
  },
  {
   "cell_type": "code",
   "execution_count": null,
   "id": "142ffeca",
   "metadata": {},
   "outputs": [],
   "source": [
    "# matrix=confusion_matrix(test_df['Label'],predictions)\n",
    "# print(matrix)\n",
    "# score=accuracy_score(test_df['Label'],predictions)\n",
    "# print(score)\n",
    "# report=classification_report(test_df['Label'],predictions)\n",
    "# print(report)"
   ]
  },
  {
   "cell_type": "code",
   "execution_count": 15,
   "id": "7073b840",
   "metadata": {},
   "outputs": [],
   "source": [
    "cleaned_headlines_train = cleaned_headlines[0:1611]\n",
    "cleaned_headlines_test = cleaned_headlines[1611:]"
   ]
  },
  {
   "cell_type": "code",
   "execution_count": 16,
   "id": "bf46e1ef",
   "metadata": {},
   "outputs": [
    {
     "data": {
      "text/plain": [
       "(1611, 378)"
      ]
     },
     "execution_count": 16,
     "metadata": {},
     "output_type": "execute_result"
    }
   ],
   "source": [
    "len(cleaned_headlines_train), len(cleaned_headlines_test)"
   ]
  },
  {
   "cell_type": "markdown",
   "id": "c4c6baee",
   "metadata": {},
   "source": [
    "# Classification"
   ]
  },
  {
   "cell_type": "markdown",
   "id": "61ed6cbf",
   "metadata": {},
   "source": [
    "# Model 1 - Baseline CountVectorizer"
   ]
  },
  {
   "cell_type": "code",
   "execution_count": 17,
   "id": "357f4585",
   "metadata": {},
   "outputs": [],
   "source": [
    "from sklearn.feature_extraction.text import CountVectorizer\n",
    "from sklearn.ensemble import RandomForestClassifier"
   ]
  },
  {
   "cell_type": "code",
   "execution_count": 18,
   "id": "2fdde2e7",
   "metadata": {},
   "outputs": [],
   "source": [
    "# Need to include stemmer within count vectorizer \n",
    "\n",
    "from nltk.stem import PorterStemmer, SnowballStemmer, LancasterStemmer\n",
    "stemmer = SnowballStemmer('english')"
   ]
  },
  {
   "cell_type": "code",
   "execution_count": 19,
   "id": "4a82722b",
   "metadata": {},
   "outputs": [],
   "source": [
    "# function for further pre-processing\n",
    "\n",
    "def prep(word, stemmer=None):\n",
    "    \n",
    "    with open('../NBM_Unsupervised_Student/pairs/nlp_pipeline/stop_words_english.txt', 'r') as f:\n",
    "        stopwords = [s.strip() for s in f.readlines()]\n",
    "        \n",
    "    if word.lower() in stopwords:\n",
    "        return None\n",
    "    \n",
    "    elif stemmer is None:\n",
    "        return word.lower()\n",
    "    \n",
    "    else:\n",
    "        return stemmer.stem(word)"
   ]
  },
  {
   "cell_type": "code",
   "execution_count": 20,
   "id": "8b92ac1b",
   "metadata": {
    "scrolled": true
   },
   "outputs": [],
   "source": [
    "cvl = CountVectorizer(stop_words='english', preprocessor=prep)\n",
    "\n",
    "X_train_cvl = cvl.fit_transform(cleaned_headlines_train)\n",
    "X_test_cvl = cvl.transform(cleaned_headlines_test)\n",
    "# pd.DataFrame(X_train_cvl.toarray(), columns=cvl.get_feature_names())"
   ]
  },
  {
   "cell_type": "markdown",
   "id": "4dd8e24a",
   "metadata": {},
   "source": [
    "## Model 1 - Baseline CountVectorizer - Logistic Regression"
   ]
  },
  {
   "cell_type": "code",
   "execution_count": 21,
   "id": "ad3ef1c1",
   "metadata": {},
   "outputs": [],
   "source": [
    "from sklearn.linear_model import LogisticRegression\n",
    "lr = LogisticRegression(max_iter=10000)"
   ]
  },
  {
   "cell_type": "code",
   "execution_count": 22,
   "id": "af92d290",
   "metadata": {},
   "outputs": [],
   "source": [
    "lr.fit(X_train_cvl, train_df['Label'])\n",
    "y_pred_cv1 = lr.predict(X_test_cvl)"
   ]
  },
  {
   "cell_type": "code",
   "execution_count": 23,
   "id": "d6345c73",
   "metadata": {},
   "outputs": [],
   "source": [
    "from sklearn.metrics import confusion_matrix\n",
    "import matplotlib.pyplot as plt\n",
    "import seaborn as sns\n",
    "%matplotlib inline\n",
    "\n",
    "def conf_matrix(actual, predicted):\n",
    "    cm = confusion_matrix(actual, predicted)\n",
    "    sns.heatmap(cm, xticklabels=['predicted_negative', 'predicted_positive'], \n",
    "                yticklabels=['actual_negative', 'actual_positive'], annot=True,\n",
    "                fmt='d', annot_kws={'fontsize':20}, cmap=\"YlGnBu\");\n",
    "\n",
    "    true_neg, false_pos = cm[0]\n",
    "    false_neg, true_pos = cm[1]\n",
    "\n",
    "    accuracy = round((true_pos + true_neg) / (true_pos + true_neg + false_pos + false_neg),3)\n",
    "    precision = round((true_pos) / (true_pos + false_pos),3)\n",
    "    recall = round((true_pos) / (true_pos + false_neg),3)\n",
    "    f1 = round(2 * (precision * recall) / (precision + recall),3)\n",
    "    print(\"Accuracy:\",accuracy)\n",
    "    print(\"Precision:\",precision)\n",
    "    print(\"Recall:\",recall)\n",
    "    print(\"F1:\", f1)\n",
    "    cm_results = [accuracy, precision, recall, f1]\n",
    "    return cm_results"
   ]
  },
  {
   "cell_type": "code",
   "execution_count": 24,
   "id": "5ccffc65",
   "metadata": {
    "scrolled": false
   },
   "outputs": [
    {
     "name": "stdout",
     "output_type": "stream",
     "text": [
      "Accuracy: 0.426\n",
      "Precision: 0.437\n",
      "Recall: 0.453\n",
      "F1: 0.445\n"
     ]
    },
    {
     "data": {
      "image/png": "[encoded data removed]",
      "text/plain": [
       "<Figure size 432x288 with 2 Axes>"
      ]
     },
     "metadata": {
      "needs_background": "light"
     },
     "output_type": "display_data"
    }
   ],
   "source": [
    "cm1 = conf_matrix(test_df['Label'], y_pred_cv1)"
   ]
  },
  {
   "cell_type": "markdown",
   "id": "25bd78ee",
   "metadata": {},
   "source": [
    "## Model 1 - Baseline CountVectorizer - Random Forest"
   ]
  },
  {
   "cell_type": "code",
   "execution_count": 25,
   "id": "aaf90a1a",
   "metadata": {},
   "outputs": [],
   "source": [
    "from sklearn.ensemble import RandomForestClassifier"
   ]
  },
  {
   "cell_type": "code",
   "execution_count": 26,
   "id": "18741b35",
   "metadata": {},
   "outputs": [
    {
     "ename": "ValueError",
     "evalue": "could not convert string to float: 'georgia downs two russian warplanes as countries move to brink of war  breaking  musharraf to be impeached  russia today  columns of troops roll into south ossetia  footage from fighting  youtube  russian tanks are moving towards the capital of south ossetia  which has reportedly been completely destroyed by georgian artillery fire afghan children raped with impunity  u n  official says   this is sick  a three year old was raped and they do nothing    russian tanks have entered south ossetia whilst georgia shoots down two russian jets  breaking  georgia invades south ossetia  russia warned it would intervene on sos side  the enemy combatent trials are nothing but a sham  salim haman has been sentenced to       years  but will be kept longer anyway just because they feel like it   georgian troops retreat from s  osettain capital  presumably leaving several hundred people killed   video  did the u s  prep georgia for war with russia  rice gives green light for israel to attack iran  says u s  has no veto over israeli military ops announcing class action lawsuit on behalf of american public against the fbi so   russia and georgia are at war and the nyts top story is opening ceremonies of the olympics   what a fucking disgrace and yet further proof of the decline of journalism   china tells bush to stay out of other countries affairs  did world war iii start today  georgia invades south ossetia   if russia gets involved  will nato absorb georgia and unleash a full scale war  al qaeda faces islamist backlash condoleezza rice   the us would not act to prevent an israeli strike on iran   israeli defense minister ehud barak   israel is prepared for uncompromising victory in the case of military hostilities   this is a busy day   the european union has approved new sanctions against iran in protest at its nuclear programme  georgia will withdraw     soldiers from iraq to help fight off russian forces in georgias breakaway region of south ossetia  why the pentagon thinks attacking iran is a bad idea   us news  amp  world report caucasus in crisis  georgia invades south ossetia indian shoe manufactory    and again in a series of  you do not like your work   visitors suffering from mental illnesses banned from olympics'",
     "output_type": "error",
     "traceback": [
      "\u001b[0;31m---------------------------------------------------------------------------\u001b[0m",
      "\u001b[0;31mValueError\u001b[0m                                Traceback (most recent call last)",
      "\u001b[0;32m<ipython-input-26-a8f9e42cfd22>\u001b[0m in \u001b[0;36m<module>\u001b[0;34m\u001b[0m\n\u001b[1;32m      1\u001b[0m \u001b[0mrf\u001b[0m\u001b[0;34m=\u001b[0m\u001b[0mRandomForestClassifier\u001b[0m\u001b[0;34m(\u001b[0m\u001b[0mn_estimators\u001b[0m\u001b[0;34m=\u001b[0m\u001b[0;36m200\u001b[0m\u001b[0;34m,\u001b[0m\u001b[0mcriterion\u001b[0m\u001b[0;34m=\u001b[0m\u001b[0;34m'entropy'\u001b[0m\u001b[0;34m)\u001b[0m\u001b[0;34m\u001b[0m\u001b[0;34m\u001b[0m\u001b[0m\n\u001b[0;32m----> 2\u001b[0;31m \u001b[0mrf\u001b[0m\u001b[0;34m.\u001b[0m\u001b[0mfit\u001b[0m\u001b[0;34m(\u001b[0m\u001b[0mcleaned_headlines_train\u001b[0m\u001b[0;34m,\u001b[0m \u001b[0mtrain_df\u001b[0m\u001b[0;34m[\u001b[0m\u001b[0;34m'Label'\u001b[0m\u001b[0;34m]\u001b[0m\u001b[0;34m)\u001b[0m\u001b[0;34m\u001b[0m\u001b[0;34m\u001b[0m\u001b[0m\n\u001b[0m\u001b[1;32m      3\u001b[0m \u001b[0my_pred_cv1_rf\u001b[0m \u001b[0;34m=\u001b[0m \u001b[0mrf\u001b[0m\u001b[0;34m.\u001b[0m\u001b[0mpredict\u001b[0m\u001b[0;34m(\u001b[0m\u001b[0mX_test_cvl\u001b[0m\u001b[0;34m)\u001b[0m\u001b[0;34m\u001b[0m\u001b[0;34m\u001b[0m\u001b[0m\n",
      "\u001b[0;32m~/opt/anaconda3/envs/metis/lib/python3.8/site-packages/sklearn/ensemble/_forest.py\u001b[0m in \u001b[0;36mfit\u001b[0;34m(self, X, y, sample_weight)\u001b[0m\n\u001b[1;32m    302\u001b[0m                 \u001b[0;34m\"sparse multilabel-indicator for y is not supported.\"\u001b[0m\u001b[0;34m\u001b[0m\u001b[0;34m\u001b[0m\u001b[0m\n\u001b[1;32m    303\u001b[0m             )\n\u001b[0;32m--> 304\u001b[0;31m         X, y = self._validate_data(X, y, multi_output=True,\n\u001b[0m\u001b[1;32m    305\u001b[0m                                    accept_sparse=\"csc\", dtype=DTYPE)\n\u001b[1;32m    306\u001b[0m         \u001b[0;32mif\u001b[0m \u001b[0msample_weight\u001b[0m \u001b[0;32mis\u001b[0m \u001b[0;32mnot\u001b[0m \u001b[0;32mNone\u001b[0m\u001b[0;34m:\u001b[0m\u001b[0;34m\u001b[0m\u001b[0;34m\u001b[0m\u001b[0m\n",
      "\u001b[0;32m~/opt/anaconda3/envs/metis/lib/python3.8/site-packages/sklearn/base.py\u001b[0m in \u001b[0;36m_validate_data\u001b[0;34m(self, X, y, reset, validate_separately, **check_params)\u001b[0m\n\u001b[1;32m    431\u001b[0m                 \u001b[0my\u001b[0m \u001b[0;34m=\u001b[0m \u001b[0mcheck_array\u001b[0m\u001b[0;34m(\u001b[0m\u001b[0my\u001b[0m\u001b[0;34m,\u001b[0m \u001b[0;34m**\u001b[0m\u001b[0mcheck_y_params\u001b[0m\u001b[0;34m)\u001b[0m\u001b[0;34m\u001b[0m\u001b[0;34m\u001b[0m\u001b[0m\n\u001b[1;32m    432\u001b[0m             \u001b[0;32melse\u001b[0m\u001b[0;34m:\u001b[0m\u001b[0;34m\u001b[0m\u001b[0;34m\u001b[0m\u001b[0m\n\u001b[0;32m--> 433\u001b[0;31m                 \u001b[0mX\u001b[0m\u001b[0;34m,\u001b[0m \u001b[0my\u001b[0m \u001b[0;34m=\u001b[0m \u001b[0mcheck_X_y\u001b[0m\u001b[0;34m(\u001b[0m\u001b[0mX\u001b[0m\u001b[0;34m,\u001b[0m \u001b[0my\u001b[0m\u001b[0;34m,\u001b[0m \u001b[0;34m**\u001b[0m\u001b[0mcheck_params\u001b[0m\u001b[0;34m)\u001b[0m\u001b[0;34m\u001b[0m\u001b[0;34m\u001b[0m\u001b[0m\n\u001b[0m\u001b[1;32m    434\u001b[0m             \u001b[0mout\u001b[0m \u001b[0;34m=\u001b[0m \u001b[0mX\u001b[0m\u001b[0;34m,\u001b[0m \u001b[0my\u001b[0m\u001b[0;34m\u001b[0m\u001b[0;34m\u001b[0m\u001b[0m\n\u001b[1;32m    435\u001b[0m \u001b[0;34m\u001b[0m\u001b[0m\n",
      "\u001b[0;32m~/opt/anaconda3/envs/metis/lib/python3.8/site-packages/sklearn/utils/validation.py\u001b[0m in \u001b[0;36minner_f\u001b[0;34m(*args, **kwargs)\u001b[0m\n\u001b[1;32m     61\u001b[0m             \u001b[0mextra_args\u001b[0m \u001b[0;34m=\u001b[0m \u001b[0mlen\u001b[0m\u001b[0;34m(\u001b[0m\u001b[0margs\u001b[0m\u001b[0;34m)\u001b[0m \u001b[0;34m-\u001b[0m \u001b[0mlen\u001b[0m\u001b[0;34m(\u001b[0m\u001b[0mall_args\u001b[0m\u001b[0;34m)\u001b[0m\u001b[0;34m\u001b[0m\u001b[0;34m\u001b[0m\u001b[0m\n\u001b[1;32m     62\u001b[0m             \u001b[0;32mif\u001b[0m \u001b[0mextra_args\u001b[0m \u001b[0;34m<=\u001b[0m \u001b[0;36m0\u001b[0m\u001b[0;34m:\u001b[0m\u001b[0;34m\u001b[0m\u001b[0;34m\u001b[0m\u001b[0m\n\u001b[0;32m---> 63\u001b[0;31m                 \u001b[0;32mreturn\u001b[0m \u001b[0mf\u001b[0m\u001b[0;34m(\u001b[0m\u001b[0;34m*\u001b[0m\u001b[0margs\u001b[0m\u001b[0;34m,\u001b[0m \u001b[0;34m**\u001b[0m\u001b[0mkwargs\u001b[0m\u001b[0;34m)\u001b[0m\u001b[0;34m\u001b[0m\u001b[0;34m\u001b[0m\u001b[0m\n\u001b[0m\u001b[1;32m     64\u001b[0m \u001b[0;34m\u001b[0m\u001b[0m\n\u001b[1;32m     65\u001b[0m             \u001b[0;31m# extra_args > 0\u001b[0m\u001b[0;34m\u001b[0m\u001b[0;34m\u001b[0m\u001b[0;34m\u001b[0m\u001b[0m\n",
      "\u001b[0;32m~/opt/anaconda3/envs/metis/lib/python3.8/site-packages/sklearn/utils/validation.py\u001b[0m in \u001b[0;36mcheck_X_y\u001b[0;34m(X, y, accept_sparse, accept_large_sparse, dtype, order, copy, force_all_finite, ensure_2d, allow_nd, multi_output, ensure_min_samples, ensure_min_features, y_numeric, estimator)\u001b[0m\n\u001b[1;32m    869\u001b[0m         \u001b[0;32mraise\u001b[0m \u001b[0mValueError\u001b[0m\u001b[0;34m(\u001b[0m\u001b[0;34m\"y cannot be None\"\u001b[0m\u001b[0;34m)\u001b[0m\u001b[0;34m\u001b[0m\u001b[0;34m\u001b[0m\u001b[0m\n\u001b[1;32m    870\u001b[0m \u001b[0;34m\u001b[0m\u001b[0m\n\u001b[0;32m--> 871\u001b[0;31m     X = check_array(X, accept_sparse=accept_sparse,\n\u001b[0m\u001b[1;32m    872\u001b[0m                     \u001b[0maccept_large_sparse\u001b[0m\u001b[0;34m=\u001b[0m\u001b[0maccept_large_sparse\u001b[0m\u001b[0;34m,\u001b[0m\u001b[0;34m\u001b[0m\u001b[0;34m\u001b[0m\u001b[0m\n\u001b[1;32m    873\u001b[0m                     \u001b[0mdtype\u001b[0m\u001b[0;34m=\u001b[0m\u001b[0mdtype\u001b[0m\u001b[0;34m,\u001b[0m \u001b[0morder\u001b[0m\u001b[0;34m=\u001b[0m\u001b[0morder\u001b[0m\u001b[0;34m,\u001b[0m \u001b[0mcopy\u001b[0m\u001b[0;34m=\u001b[0m\u001b[0mcopy\u001b[0m\u001b[0;34m,\u001b[0m\u001b[0;34m\u001b[0m\u001b[0;34m\u001b[0m\u001b[0m\n",
      "\u001b[0;32m~/opt/anaconda3/envs/metis/lib/python3.8/site-packages/sklearn/utils/validation.py\u001b[0m in \u001b[0;36minner_f\u001b[0;34m(*args, **kwargs)\u001b[0m\n\u001b[1;32m     61\u001b[0m             \u001b[0mextra_args\u001b[0m \u001b[0;34m=\u001b[0m \u001b[0mlen\u001b[0m\u001b[0;34m(\u001b[0m\u001b[0margs\u001b[0m\u001b[0;34m)\u001b[0m \u001b[0;34m-\u001b[0m \u001b[0mlen\u001b[0m\u001b[0;34m(\u001b[0m\u001b[0mall_args\u001b[0m\u001b[0;34m)\u001b[0m\u001b[0;34m\u001b[0m\u001b[0;34m\u001b[0m\u001b[0m\n\u001b[1;32m     62\u001b[0m             \u001b[0;32mif\u001b[0m \u001b[0mextra_args\u001b[0m \u001b[0;34m<=\u001b[0m \u001b[0;36m0\u001b[0m\u001b[0;34m:\u001b[0m\u001b[0;34m\u001b[0m\u001b[0;34m\u001b[0m\u001b[0m\n\u001b[0;32m---> 63\u001b[0;31m                 \u001b[0;32mreturn\u001b[0m \u001b[0mf\u001b[0m\u001b[0;34m(\u001b[0m\u001b[0;34m*\u001b[0m\u001b[0margs\u001b[0m\u001b[0;34m,\u001b[0m \u001b[0;34m**\u001b[0m\u001b[0mkwargs\u001b[0m\u001b[0;34m)\u001b[0m\u001b[0;34m\u001b[0m\u001b[0;34m\u001b[0m\u001b[0m\n\u001b[0m\u001b[1;32m     64\u001b[0m \u001b[0;34m\u001b[0m\u001b[0m\n\u001b[1;32m     65\u001b[0m             \u001b[0;31m# extra_args > 0\u001b[0m\u001b[0;34m\u001b[0m\u001b[0;34m\u001b[0m\u001b[0;34m\u001b[0m\u001b[0m\n",
      "\u001b[0;32m~/opt/anaconda3/envs/metis/lib/python3.8/site-packages/sklearn/utils/validation.py\u001b[0m in \u001b[0;36mcheck_array\u001b[0;34m(array, accept_sparse, accept_large_sparse, dtype, order, copy, force_all_finite, ensure_2d, allow_nd, ensure_min_samples, ensure_min_features, estimator)\u001b[0m\n\u001b[1;32m    671\u001b[0m                     \u001b[0marray\u001b[0m \u001b[0;34m=\u001b[0m \u001b[0marray\u001b[0m\u001b[0;34m.\u001b[0m\u001b[0mastype\u001b[0m\u001b[0;34m(\u001b[0m\u001b[0mdtype\u001b[0m\u001b[0;34m,\u001b[0m \u001b[0mcasting\u001b[0m\u001b[0;34m=\u001b[0m\u001b[0;34m\"unsafe\"\u001b[0m\u001b[0;34m,\u001b[0m \u001b[0mcopy\u001b[0m\u001b[0;34m=\u001b[0m\u001b[0;32mFalse\u001b[0m\u001b[0;34m)\u001b[0m\u001b[0;34m\u001b[0m\u001b[0;34m\u001b[0m\u001b[0m\n\u001b[1;32m    672\u001b[0m                 \u001b[0;32melse\u001b[0m\u001b[0;34m:\u001b[0m\u001b[0;34m\u001b[0m\u001b[0;34m\u001b[0m\u001b[0m\n\u001b[0;32m--> 673\u001b[0;31m                     \u001b[0marray\u001b[0m \u001b[0;34m=\u001b[0m \u001b[0mnp\u001b[0m\u001b[0;34m.\u001b[0m\u001b[0masarray\u001b[0m\u001b[0;34m(\u001b[0m\u001b[0marray\u001b[0m\u001b[0;34m,\u001b[0m \u001b[0morder\u001b[0m\u001b[0;34m=\u001b[0m\u001b[0morder\u001b[0m\u001b[0;34m,\u001b[0m \u001b[0mdtype\u001b[0m\u001b[0;34m=\u001b[0m\u001b[0mdtype\u001b[0m\u001b[0;34m)\u001b[0m\u001b[0;34m\u001b[0m\u001b[0;34m\u001b[0m\u001b[0m\n\u001b[0m\u001b[1;32m    674\u001b[0m             \u001b[0;32mexcept\u001b[0m \u001b[0mComplexWarning\u001b[0m \u001b[0;32mas\u001b[0m \u001b[0mcomplex_warning\u001b[0m\u001b[0;34m:\u001b[0m\u001b[0;34m\u001b[0m\u001b[0;34m\u001b[0m\u001b[0m\n\u001b[1;32m    675\u001b[0m                 raise ValueError(\"Complex data not supported\\n\"\n",
      "\u001b[0;32m~/opt/anaconda3/envs/metis/lib/python3.8/site-packages/numpy/core/_asarray.py\u001b[0m in \u001b[0;36masarray\u001b[0;34m(a, dtype, order)\u001b[0m\n\u001b[1;32m     81\u001b[0m \u001b[0;34m\u001b[0m\u001b[0m\n\u001b[1;32m     82\u001b[0m     \"\"\"\n\u001b[0;32m---> 83\u001b[0;31m     \u001b[0;32mreturn\u001b[0m \u001b[0marray\u001b[0m\u001b[0;34m(\u001b[0m\u001b[0ma\u001b[0m\u001b[0;34m,\u001b[0m \u001b[0mdtype\u001b[0m\u001b[0;34m,\u001b[0m \u001b[0mcopy\u001b[0m\u001b[0;34m=\u001b[0m\u001b[0;32mFalse\u001b[0m\u001b[0;34m,\u001b[0m \u001b[0morder\u001b[0m\u001b[0;34m=\u001b[0m\u001b[0morder\u001b[0m\u001b[0;34m)\u001b[0m\u001b[0;34m\u001b[0m\u001b[0;34m\u001b[0m\u001b[0m\n\u001b[0m\u001b[1;32m     84\u001b[0m \u001b[0;34m\u001b[0m\u001b[0m\n\u001b[1;32m     85\u001b[0m \u001b[0;34m\u001b[0m\u001b[0m\n",
      "\u001b[0;31mValueError\u001b[0m: could not convert string to float: 'georgia downs two russian warplanes as countries move to brink of war  breaking  musharraf to be impeached  russia today  columns of troops roll into south ossetia  footage from fighting  youtube  russian tanks are moving towards the capital of south ossetia  which has reportedly been completely destroyed by georgian artillery fire afghan children raped with impunity  u n  official says   this is sick  a three year old was raped and they do nothing    russian tanks have entered south ossetia whilst georgia shoots down two russian jets  breaking  georgia invades south ossetia  russia warned it would intervene on sos side  the enemy combatent trials are nothing but a sham  salim haman has been sentenced to       years  but will be kept longer anyway just because they feel like it   georgian troops retreat from s  osettain capital  presumably leaving several hundred people killed   video  did the u s  prep georgia for war with russia  rice gives green light for israel to attack iran  says u s  has no veto over israeli military ops announcing class action lawsuit on behalf of american public against the fbi so   russia and georgia are at war and the nyts top story is opening ceremonies of the olympics   what a fucking disgrace and yet further proof of the decline of journalism   china tells bush to stay out of other countries affairs  did world war iii start today  georgia invades south ossetia   if russia gets involved  will nato absorb georgia and unleash a full scale war  al qaeda faces islamist backlash condoleezza rice   the us would not act to prevent an israeli strike on iran   israeli defense minister ehud barak   israel is prepared for uncompromising victory in the case of military hostilities   this is a busy day   the european union has approved new sanctions against iran in protest at its nuclear programme  georgia will withdraw     soldiers from iraq to help fight off russian forces in georgias breakaway region of south ossetia  why the pentagon thinks attacking iran is a bad idea   us news  amp  world report caucasus in crisis  georgia invades south ossetia indian shoe manufactory    and again in a series of  you do not like your work   visitors suffering from mental illnesses banned from olympics'"
     ]
    }
   ],
   "source": [
    "rf=RandomForestClassifier(n_estimators=200,criterion='entropy')\n",
    "rf.fit(cleaned_headlines_train, train_df['Label'])\n",
    "y_pred_cv1_rf = rf.predict(X_test_cvl)"
   ]
  },
  {
   "cell_type": "code",
   "execution_count": null,
   "id": "5635e1ff",
   "metadata": {
    "scrolled": true
   },
   "outputs": [],
   "source": [
    "# Random Forest appears to be better than Logistic Regression, we will only test with RF going forward\n",
    "\n",
    "cm2 = conf_matrix(y_test, y_pred_cv1)"
   ]
  },
  {
   "cell_type": "markdown",
   "id": "fa36193d",
   "metadata": {},
   "source": [
    "# Model 2 - CountVectorizer with bi-gram"
   ]
  },
  {
   "cell_type": "code",
   "execution_count": 27,
   "id": "81854d2a",
   "metadata": {},
   "outputs": [],
   "source": [
    "cv2 = CountVectorizer(ngram_range=(1,2), binary=True, stop_words='english', max_df=.70, preprocessor=prep)\n",
    "\n",
    "X_train_cv2 = cv2.fit_transform(cleaned_headlines_train)\n",
    "X_test_cv2  = cv2.transform(cleaned_headlines_test)\n",
    "\n",
    "#pd.DataFrame(X_train_cv2.toarray(), columns=cv2.get_feature_names())"
   ]
  },
  {
   "cell_type": "code",
   "execution_count": 28,
   "id": "389e0dc8",
   "metadata": {},
   "outputs": [],
   "source": [
    "rf_2 = RandomForestClassifier(criterion='entropy', n_estimators=100)\n",
    "rf_2.fit(X_train_cv2, train_df['Label'])\n",
    "y_pred_cv2 = rf_2.predict(X_test_cv2)"
   ]
  },
  {
   "cell_type": "code",
   "execution_count": 29,
   "id": "6112a116",
   "metadata": {
    "scrolled": false
   },
   "outputs": [
    {
     "name": "stdout",
     "output_type": "stream",
     "text": [
      "Accuracy: 0.495\n",
      "Precision: 0.501\n",
      "Recall: 0.896\n",
      "F1: 0.643\n"
     ]
    },
    {
     "data": {
      "image/png": "[encoded data removed]",
      "text/plain": [
       "<Figure size 432x288 with 2 Axes>"
      ]
     },
     "metadata": {
      "needs_background": "light"
     },
     "output_type": "display_data"
    }
   ],
   "source": [
    "#bi-gram slightly better than uni-gram will continue more modeling with this feature\n",
    "\n",
    "cm3 = conf_matrix(test_df['Label'], y_pred_cv2)"
   ]
  },
  {
   "cell_type": "markdown",
   "id": "19fd8037",
   "metadata": {},
   "source": [
    "## Model 3 - TFIDF Vectorizer "
   ]
  },
  {
   "cell_type": "code",
   "execution_count": 30,
   "id": "0f89845a",
   "metadata": {},
   "outputs": [],
   "source": [
    "from sklearn.feature_extraction.text import TfidfVectorizer"
   ]
  },
  {
   "cell_type": "code",
   "execution_count": 31,
   "id": "4db6e288",
   "metadata": {},
   "outputs": [],
   "source": [
    "cv3_tfidf = TfidfVectorizer(stop_words='english', max_df=.70,preprocessor=prep)\n",
    "X_train_cv3 = cv3_tfidf.fit_transform(cleaned_headlines_train)\n",
    "X_test_cv3 = cv3_tfidf.transform(cleaned_headlines_test)\n",
    "\n",
    "#pd.DataFrame(X_train_cv3.toarray(), columns=cv3_tfidf.get_feature_names())"
   ]
  },
  {
   "cell_type": "code",
   "execution_count": 32,
   "id": "f481267f",
   "metadata": {},
   "outputs": [],
   "source": [
    "rf_3 = RandomForestClassifier(criterion='entropy', n_estimators=200)\n",
    "rf_3.fit(X_train_cv3, train_df['Label'])\n",
    "y_pred_cv3 = rf_3.predict(X_test_cv3)"
   ]
  },
  {
   "cell_type": "code",
   "execution_count": 33,
   "id": "2347c0fc",
   "metadata": {
    "scrolled": true
   },
   "outputs": [
    {
     "name": "stdout",
     "output_type": "stream",
     "text": [
      "Accuracy: 0.468\n",
      "Precision: 0.486\n",
      "Recall: 0.802\n",
      "F1: 0.605\n"
     ]
    },
    {
     "data": {
      "image/png": "[encoded data removed]",
      "text/plain": [
       "<Figure size 432x288 with 2 Axes>"
      ]
     },
     "metadata": {
      "needs_background": "light"
     },
     "output_type": "display_data"
    }
   ],
   "source": [
    "\n",
    "\n",
    "cm4 = conf_matrix(test_df['Label'], y_pred_cv3)"
   ]
  },
  {
   "cell_type": "markdown",
   "id": "f103903a",
   "metadata": {},
   "source": [
    "## Model 4 - Bi-gram countvectorizer with PCA"
   ]
  },
  {
   "cell_type": "code",
   "execution_count": 103,
   "id": "301732ba",
   "metadata": {},
   "outputs": [],
   "source": [
    "from sklearn.preprocessing import StandardScaler\n",
    "std = StandardScaler()"
   ]
  },
  {
   "cell_type": "code",
   "execution_count": 122,
   "id": "5b676f2b",
   "metadata": {},
   "outputs": [],
   "source": [
    "# We'v settled on RF and a bi-gram countvectorizer\n",
    "# Now lets reduce dimensionality with PCA\n",
    "\n",
    "from sklearn.decomposition import PCA\n",
    "\n",
    "pca = PCA()\n",
    "\n",
    "cv4 = CountVectorizer(ngram_range=(1,2), binary=True, stop_words='english', max_df=.70, preprocessor=prep)\n",
    "\n",
    "X_train_cv4 = cv4.fit_transform(cleaned_headlines_train)\n",
    "X_test_cv4 = cv4.transform(cleaned_headlines_test)\n",
    "\n",
    "X_train_cv4_std = std.fit_transform(X_train_cv4.toarray())\n",
    "X_test_cv4_std = std.transform(X_test_cv4.toarray())\n",
    "\n",
    "X_train_pca = pca.fit_transform(X_train_cv4_std)\n",
    "X_test_pca = pca.transform(X_test_cv4_std)\n",
    "#pd.DataFrame(X_train_pca)"
   ]
  },
  {
   "cell_type": "code",
   "execution_count": 243,
   "id": "bc428cb8",
   "metadata": {},
   "outputs": [],
   "source": [
    "rf_4 = RandomForestClassifier(criterion='entropy', n_estimators=100)\n",
    "rf_4.fit(X_train_pca, train_df['Label'])\n",
    "y_pred_pca = rf_4.predict(X_test_pca)"
   ]
  },
  {
   "cell_type": "code",
   "execution_count": 244,
   "id": "e7303e5c",
   "metadata": {
    "scrolled": true
   },
   "outputs": [
    {
     "name": "stdout",
     "output_type": "stream",
     "text": [
      "Accuracy: 0.503\n",
      "Precision: 0.508\n",
      "Recall: 0.677\n",
      "F1: 0.58\n"
     ]
    },
    {
     "data": {
      "image/png": "[encoded data removed]",
      "text/plain": [
       "<Figure size 432x288 with 2 Axes>"
      ]
     },
     "metadata": {
      "needs_background": "light"
     },
     "output_type": "display_data"
    }
   ],
   "source": [
    "cm5 = conf_matrix(test_df['Label'], y_pred_pca)"
   ]
  },
  {
   "cell_type": "code",
   "execution_count": 41,
   "id": "be9881cf",
   "metadata": {},
   "outputs": [],
   "source": [
    "import xgboost as xgb"
   ]
  },
  {
   "cell_type": "code",
   "execution_count": 42,
   "id": "71c89c20",
   "metadata": {},
   "outputs": [],
   "source": [
    "gbm_1 = xgb.XGBClassifier( \n",
    "                        n_estimators=30000,\n",
    "                        max_depth=3,\n",
    "                        objective='binary:logistic', #new objective\n",
    "                        learning_rate=.0001, \n",
    "                        subsample=.8,\n",
    "                        min_child_weight=3,\n",
    "                        colsample_bytree=.8,\n",
    "                        scale_pos_weight = 7 \n",
    "                       )"
   ]
  },
  {
   "cell_type": "code",
   "execution_count": 220,
   "id": "1a9868a6",
   "metadata": {
    "scrolled": true
   },
   "outputs": [
    {
     "data": {
      "text/plain": [
       "array([[-1.17358703e-01, -8.24967151e-01, -8.87885752e-01, ...,\n",
       "        -1.52235439e+00, -4.72223856e-01,  1.71230735e-13],\n",
       "       [-4.73157947e-01, -6.54731022e-01, -5.73524572e-01, ...,\n",
       "        -5.75458980e-01, -2.32270508e+00,  1.71230735e-13],\n",
       "       [ 4.77448283e-01, -4.79525662e-01, -6.98546137e-01, ...,\n",
       "         2.43364378e-01, -8.53636108e-01,  1.71230735e-13],\n",
       "       ...,\n",
       "       [-3.26519872e-01, -8.70932207e-01, -6.76487691e-01, ...,\n",
       "        -9.08718946e-02, -5.12076385e-01,  1.71230735e-13],\n",
       "       [-9.38117499e-01, -4.60737826e-01, -1.03080580e+00, ...,\n",
       "         3.12091189e-02,  7.60631869e-02,  1.71230735e-13],\n",
       "       [-1.11817404e-01, -1.80410733e-01, -1.04584687e+00, ...,\n",
       "         3.72406661e-02, -1.75030731e-01,  1.71230735e-13]])"
      ]
     },
     "execution_count": 220,
     "metadata": {},
     "output_type": "execute_result"
    }
   ],
   "source": [
    "X_train_pca"
   ]
  },
  {
   "cell_type": "code",
   "execution_count": 226,
   "id": "ac1868b9",
   "metadata": {},
   "outputs": [],
   "source": [
    "from sklearn.model_selection import train_test_split"
   ]
  },
  {
   "cell_type": "code",
   "execution_count": 227,
   "id": "e79f81df",
   "metadata": {},
   "outputs": [],
   "source": [
    "X_train_xgb, X_val, y_train_xgb, y_val = train_test_split(X_train_pca, train_df['Label'], test_size =0.20, random_state = 42)"
   ]
  },
  {
   "cell_type": "code",
   "execution_count": 228,
   "id": "7a3bfc7a",
   "metadata": {},
   "outputs": [],
   "source": [
    "eval_set=[(X_train_xgb ,y_train_xgb),(X_val,y_val)]"
   ]
  },
  {
   "cell_type": "code",
   "execution_count": 233,
   "id": "18ca2bb4",
   "metadata": {},
   "outputs": [
    {
     "name": "stdout",
     "output_type": "stream",
     "text": [
      "[0]\tvalidation_0-error:0.44410\tvalidation_1-error:0.41796\n",
      "[1]\tvalidation_0-error:0.45497\tvalidation_1-error:0.43034\n",
      "[2]\tvalidation_0-error:0.45575\tvalidation_1-error:0.43034\n",
      "[3]\tvalidation_0-error:0.46273\tvalidation_1-error:0.43653\n",
      "[4]\tvalidation_0-error:0.46273\tvalidation_1-error:0.43963\n",
      "[5]\tvalidation_0-error:0.46196\tvalidation_1-error:0.43963\n",
      "[6]\tvalidation_0-error:0.46273\tvalidation_1-error:0.43963\n",
      "[7]\tvalidation_0-error:0.46273\tvalidation_1-error:0.43963\n",
      "[8]\tvalidation_0-error:0.46273\tvalidation_1-error:0.43963\n",
      "[9]\tvalidation_0-error:0.46273\tvalidation_1-error:0.43963\n",
      "[10]\tvalidation_0-error:0.46273\tvalidation_1-error:0.43963\n"
     ]
    },
    {
     "data": {
      "text/plain": [
       "XGBClassifier(base_score=0.5, booster='gbtree', colsample_bylevel=1,\n",
       "              colsample_bynode=1, colsample_bytree=0.8, gamma=0, gpu_id=-1,\n",
       "              importance_type='gain', interaction_constraints='',\n",
       "              learning_rate=0.0001, max_delta_step=0, max_depth=3,\n",
       "              min_child_weight=3, missing=nan, monotone_constraints='()',\n",
       "              n_estimators=30000, n_jobs=12, num_parallel_tree=1,\n",
       "              random_state=0, reg_alpha=0, reg_lambda=1, scale_pos_weight=7,\n",
       "              subsample=0.8, tree_method='exact', validate_parameters=1,\n",
       "              verbosity=None)"
      ]
     },
     "execution_count": 233,
     "metadata": {},
     "output_type": "execute_result"
    }
   ],
   "source": [
    "gbm_1.fit(X_train_pca, train_df['Label'],eval_set=eval_set, eval_metric='error', early_stopping_rounds=10,verbose=True)"
   ]
  },
  {
   "cell_type": "code",
   "execution_count": 234,
   "id": "b2b184c3",
   "metadata": {
    "scrolled": true
   },
   "outputs": [
    {
     "data": {
      "text/plain": [
       "array([1, 1, 1, 1, 1, 1, 1, 1, 1, 1, 1, 1, 1, 1, 1, 1, 1, 1, 1, 1, 1, 1,\n",
       "       1, 1, 1, 1, 1, 1, 1, 1, 1, 1, 1, 1, 1, 1, 1, 1, 1, 1, 1, 1, 1, 1,\n",
       "       1, 1, 1, 1, 1, 1, 1, 1, 1, 1, 1, 1, 1, 1, 1, 1, 1, 1, 1, 1, 1, 1,\n",
       "       1, 1, 1, 1, 1, 1, 1, 1, 1, 1, 1, 1, 1, 1, 1, 1, 1, 1, 1, 1, 1, 1,\n",
       "       1, 1, 1, 1, 1, 1, 1, 1, 1, 1, 1, 1, 1, 1, 1, 1, 1, 1, 1, 1, 1, 1,\n",
       "       1, 1, 1, 1, 1, 1, 1, 1, 1, 1, 1, 1, 1, 1, 1, 1, 1, 1, 1, 1, 1, 1,\n",
       "       1, 1, 1, 1, 1, 1, 1, 1, 1, 1, 1, 1, 1, 1, 1, 1, 1, 1, 1, 1, 1, 1,\n",
       "       1, 1, 1, 1, 1, 1, 1, 1, 1, 1, 1, 1, 1, 1, 1, 1, 1, 1, 1, 1, 1, 1,\n",
       "       1, 1, 1, 1, 1, 1, 1, 1, 1, 1, 1, 1, 1, 1, 1, 1, 1, 1, 1, 1, 1, 1,\n",
       "       1, 1, 1, 1, 1, 1, 1, 1, 1, 1, 1, 1, 1, 1, 1, 1, 1, 1, 1, 1, 1, 1,\n",
       "       1, 1, 1, 1, 1, 1, 1, 1, 1, 1, 1, 1, 1, 1, 1, 1, 1, 1, 1, 1, 1, 1,\n",
       "       1, 1, 1, 1, 1, 1, 1, 1, 1, 1, 1, 1, 1, 1, 1, 1, 1, 1, 1, 1, 1, 1,\n",
       "       1, 1, 1, 1, 1, 1, 1, 1, 1, 1, 1, 1, 1, 1, 1, 1, 1, 1, 1, 1, 1, 1,\n",
       "       1, 1, 1, 1, 1, 1, 1, 1, 1, 1, 1, 1, 1, 1, 1, 1, 1, 1, 1, 1, 1, 1,\n",
       "       1, 1, 1, 1, 1, 1, 1, 1, 1, 1, 1, 1, 1, 1, 1, 1, 1, 1, 1, 1, 1, 1,\n",
       "       1, 1, 1, 1, 1, 1, 1, 1, 1, 1, 1, 1, 1, 1, 1, 1, 1, 1, 1, 1, 1, 1,\n",
       "       1, 1, 1, 1, 1, 1, 1, 1, 1, 1, 1, 1, 1, 1, 1, 1, 1, 1, 1, 1, 1, 1,\n",
       "       1, 1, 1, 1])"
      ]
     },
     "execution_count": 234,
     "metadata": {},
     "output_type": "execute_result"
    }
   ],
   "source": [
    "gbm_1.predict(X_test_pca)"
   ]
  },
  {
   "cell_type": "code",
   "execution_count": 235,
   "id": "18851f16",
   "metadata": {},
   "outputs": [
    {
     "name": "stdout",
     "output_type": "stream",
     "text": [
      "Accuracy: 0.508\n",
      "Precision: 0.508\n",
      "Recall: 1.0\n",
      "F1: 0.674\n"
     ]
    },
    {
     "data": {
      "image/png": "[encoded data removed]",
      "text/plain": [
       "<Figure size 432x288 with 2 Axes>"
      ]
     },
     "metadata": {
      "needs_background": "light"
     },
     "output_type": "display_data"
    }
   ],
   "source": [
    "cm5_a = conf_matrix(test_df['Label'], gbm_1.predict(X_test_pca))"
   ]
  },
  {
   "cell_type": "markdown",
   "id": "212bd5b5",
   "metadata": {},
   "source": []
  },
  {
   "cell_type": "markdown",
   "id": "fc34fd74",
   "metadata": {},
   "source": [
    "# Model 5 - N-gram TF-IDF Vectorizer with PCA"
   ]
  },
  {
   "cell_type": "code",
   "execution_count": 37,
   "id": "0b169635",
   "metadata": {},
   "outputs": [],
   "source": [
    "cv5_tfidf = TfidfVectorizer(stop_words='english', ngram_range=(2,2),max_df=.70,preprocessor=prep)\n",
    "X_train_cv5 = cv5_tfidf.fit_transform(cleaned_headlines_train)\n",
    "X_test_cv5 = cv5_tfidf.transform(cleaned_headlines_test)"
   ]
  },
  {
   "cell_type": "code",
   "execution_count": 38,
   "id": "9937df09",
   "metadata": {},
   "outputs": [],
   "source": [
    "pca_2 = PCA()\n",
    "X_train_pca_2 = pca_2.fit_transform(X_train_cv5.toarray())\n",
    "X_test_pca_2 = pca_2.transform(X_test_cv5.toarray())"
   ]
  },
  {
   "cell_type": "code",
   "execution_count": 39,
   "id": "d9b3ca58",
   "metadata": {},
   "outputs": [],
   "source": [
    "rf_5 = RandomForestClassifier(criterion='entropy', n_estimators=100)\n",
    "rf_5.fit(X_train_pca_2, train_df['Label'])\n",
    "y_pred_pca_2 = rf_5.predict(X_test_pca_2)"
   ]
  },
  {
   "cell_type": "code",
   "execution_count": 40,
   "id": "ac0eff96",
   "metadata": {},
   "outputs": [
    {
     "name": "stdout",
     "output_type": "stream",
     "text": [
      "Accuracy: 0.497\n",
      "Precision: 0.505\n",
      "Recall: 0.526\n",
      "F1: 0.515\n"
     ]
    },
    {
     "data": {
      "image/png": "[encoded data removed]",
      "text/plain": [
       "<Figure size 432x288 with 2 Axes>"
      ]
     },
     "metadata": {
      "needs_background": "light"
     },
     "output_type": "display_data"
    }
   ],
   "source": [
    "cm6 = conf_matrix(test_df['Label'], y_pred_pca_2)"
   ]
  },
  {
   "cell_type": "markdown",
   "id": "fe8ba931",
   "metadata": {},
   "source": [
    "# Topic Modeling"
   ]
  },
  {
   "cell_type": "code",
   "execution_count": null,
   "id": "b4458b23",
   "metadata": {
    "scrolled": true
   },
   "outputs": [],
   "source": [
    "nlp_df.set_index('Date')"
   ]
  },
  {
   "cell_type": "code",
   "execution_count": null,
   "id": "08018d1d",
   "metadata": {},
   "outputs": [],
   "source": [
    "nlp_df"
   ]
  },
  {
   "cell_type": "code",
   "execution_count": 47,
   "id": "dd098cf9",
   "metadata": {},
   "outputs": [],
   "source": [
    "cleaned_headlines = cleaned_headlines_train + cleaned_headlines_test"
   ]
  },
  {
   "cell_type": "code",
   "execution_count": 48,
   "id": "415cd4a7",
   "metadata": {},
   "outputs": [
    {
     "data": {
      "text/plain": [
       "1989"
      ]
     },
     "execution_count": 48,
     "metadata": {},
     "output_type": "execute_result"
    }
   ],
   "source": [
    "len(cleaned_headlines)"
   ]
  },
  {
   "cell_type": "code",
   "execution_count": 55,
   "id": "745406f7",
   "metadata": {},
   "outputs": [],
   "source": [
    "vectorizer = CountVectorizer(ngram_range=(1,2), binary=True, stop_words='english', preprocessor=prep)"
   ]
  },
  {
   "cell_type": "code",
   "execution_count": 86,
   "id": "5a82eb4b",
   "metadata": {},
   "outputs": [],
   "source": [
    "doc_word = vectorizer.fit_transform(cleaned_headlines[0:3])"
   ]
  },
  {
   "cell_type": "code",
   "execution_count": 87,
   "id": "636f125d",
   "metadata": {},
   "outputs": [],
   "source": [
    "from sklearn.decomposition import NMF"
   ]
  },
  {
   "cell_type": "code",
   "execution_count": 88,
   "id": "5a0da28e",
   "metadata": {},
   "outputs": [
    {
     "name": "stderr",
     "output_type": "stream",
     "text": [
      "/Users/rahulraju/opt/anaconda3/envs/metis/lib/python3.8/site-packages/sklearn/decomposition/_nmf.py:312: FutureWarning: The 'init' value, when 'init=None' and n_components is less than n_samples and n_features, will be changed from 'nndsvd' to 'nndsvda' in 1.1 (renaming of 0.26).\n",
      "  warnings.warn((\"The 'init' value, when 'init=None' and \"\n"
     ]
    }
   ],
   "source": [
    "nmf_model = NMF(3)\n",
    "doc_topic = nmf_model.fit_transform(doc_word)"
   ]
  },
  {
   "cell_type": "code",
   "execution_count": 89,
   "id": "2c7be984",
   "metadata": {},
   "outputs": [
    {
     "data": {
      "text/plain": [
       "(3, 917)"
      ]
     },
     "execution_count": 89,
     "metadata": {},
     "output_type": "execute_result"
    }
   ],
   "source": [
    "doc_word.shape"
   ]
  },
  {
   "cell_type": "code",
   "execution_count": 90,
   "id": "d14dec41",
   "metadata": {},
   "outputs": [
    {
     "data": {
      "text/html": [
       "<div>\n",
       "<style scoped>\n",
       "    .dataframe tbody tr th:only-of-type {\n",
       "        vertical-align: middle;\n",
       "    }\n",
       "\n",
       "    .dataframe tbody tr th {\n",
       "        vertical-align: top;\n",
       "    }\n",
       "\n",
       "    .dataframe thead th {\n",
       "        text-align: right;\n",
       "    }\n",
       "</style>\n",
       "<table border=\"1\" class=\"dataframe\">\n",
       "  <thead>\n",
       "    <tr style=\"text-align: right;\">\n",
       "      <th></th>\n",
       "      <th>abandoned</th>\n",
       "      <th>abandoned russia</th>\n",
       "      <th>abhinav</th>\n",
       "      <th>abhinav bindra</th>\n",
       "      <th>absorb</th>\n",
       "      <th>absorb georgia</th>\n",
       "      <th>accuses</th>\n",
       "      <th>accuses making</th>\n",
       "      <th>act</th>\n",
       "      <th>act prevent</th>\n",
       "      <th>...</th>\n",
       "      <th>xo</th>\n",
       "      <th>xo laptop</th>\n",
       "      <th>year</th>\n",
       "      <th>year old</th>\n",
       "      <th>years</th>\n",
       "      <th>years kept</th>\n",
       "      <th>youtube</th>\n",
       "      <th>youtube russian</th>\n",
       "      <th>zealand</th>\n",
       "      <th>zealand passports</th>\n",
       "    </tr>\n",
       "  </thead>\n",
       "  <tbody>\n",
       "    <tr>\n",
       "      <th>component_1</th>\n",
       "      <td>0.000</td>\n",
       "      <td>0.000</td>\n",
       "      <td>0.000</td>\n",
       "      <td>0.000</td>\n",
       "      <td>0.26</td>\n",
       "      <td>0.26</td>\n",
       "      <td>0.000</td>\n",
       "      <td>0.000</td>\n",
       "      <td>0.26</td>\n",
       "      <td>0.26</td>\n",
       "      <td>...</td>\n",
       "      <td>0.000</td>\n",
       "      <td>0.000</td>\n",
       "      <td>0.260</td>\n",
       "      <td>0.260</td>\n",
       "      <td>0.26</td>\n",
       "      <td>0.26</td>\n",
       "      <td>0.26</td>\n",
       "      <td>0.26</td>\n",
       "      <td>0.000</td>\n",
       "      <td>0.000</td>\n",
       "    </tr>\n",
       "    <tr>\n",
       "      <th>component_2</th>\n",
       "      <td>0.000</td>\n",
       "      <td>0.000</td>\n",
       "      <td>0.000</td>\n",
       "      <td>0.000</td>\n",
       "      <td>0.00</td>\n",
       "      <td>0.00</td>\n",
       "      <td>0.216</td>\n",
       "      <td>0.216</td>\n",
       "      <td>0.00</td>\n",
       "      <td>0.00</td>\n",
       "      <td>...</td>\n",
       "      <td>0.216</td>\n",
       "      <td>0.216</td>\n",
       "      <td>0.216</td>\n",
       "      <td>0.216</td>\n",
       "      <td>0.00</td>\n",
       "      <td>0.00</td>\n",
       "      <td>0.00</td>\n",
       "      <td>0.00</td>\n",
       "      <td>0.000</td>\n",
       "      <td>0.000</td>\n",
       "    </tr>\n",
       "    <tr>\n",
       "      <th>compenent_3</th>\n",
       "      <td>0.235</td>\n",
       "      <td>0.235</td>\n",
       "      <td>0.235</td>\n",
       "      <td>0.235</td>\n",
       "      <td>0.00</td>\n",
       "      <td>0.00</td>\n",
       "      <td>0.000</td>\n",
       "      <td>0.000</td>\n",
       "      <td>0.00</td>\n",
       "      <td>0.00</td>\n",
       "      <td>...</td>\n",
       "      <td>0.000</td>\n",
       "      <td>0.000</td>\n",
       "      <td>0.000</td>\n",
       "      <td>0.000</td>\n",
       "      <td>0.00</td>\n",
       "      <td>0.00</td>\n",
       "      <td>0.00</td>\n",
       "      <td>0.00</td>\n",
       "      <td>0.235</td>\n",
       "      <td>0.235</td>\n",
       "    </tr>\n",
       "  </tbody>\n",
       "</table>\n",
       "<p>3 rows × 917 columns</p>\n",
       "</div>"
      ],
      "text/plain": [
       "             abandoned  abandoned russia  abhinav  abhinav bindra  absorb  \\\n",
       "component_1      0.000             0.000    0.000           0.000    0.26   \n",
       "component_2      0.000             0.000    0.000           0.000    0.00   \n",
       "compenent_3      0.235             0.235    0.235           0.235    0.00   \n",
       "\n",
       "             absorb georgia  accuses  accuses making   act  act prevent  ...  \\\n",
       "component_1            0.26    0.000           0.000  0.26         0.26  ...   \n",
       "component_2            0.00    0.216           0.216  0.00         0.00  ...   \n",
       "compenent_3            0.00    0.000           0.000  0.00         0.00  ...   \n",
       "\n",
       "                xo  xo laptop   year  year old  years  years kept  youtube  \\\n",
       "component_1  0.000      0.000  0.260     0.260   0.26        0.26     0.26   \n",
       "component_2  0.216      0.216  0.216     0.216   0.00        0.00     0.00   \n",
       "compenent_3  0.000      0.000  0.000     0.000   0.00        0.00     0.00   \n",
       "\n",
       "             youtube russian  zealand  zealand passports  \n",
       "component_1             0.26    0.000              0.000  \n",
       "component_2             0.00    0.000              0.000  \n",
       "compenent_3             0.00    0.235              0.235  \n",
       "\n",
       "[3 rows x 917 columns]"
      ]
     },
     "execution_count": 90,
     "metadata": {},
     "output_type": "execute_result"
    }
   ],
   "source": [
    "topic_word = pd.DataFrame(nmf_model.components_.round(3),\n",
    "             index = [\"component_1\",\"component_2\", 'compenent_3'],\n",
    "             columns = vectorizer.get_feature_names())\n",
    "topic_word"
   ]
  },
  {
   "cell_type": "code",
   "execution_count": 91,
   "id": "b935e655",
   "metadata": {},
   "outputs": [],
   "source": [
    "def display_topics(model, feature_names, no_top_words, topic_names=None):\n",
    "    for ix, topic in enumerate(model.components_):\n",
    "        if not topic_names or not topic_names[ix]:\n",
    "            print(\"\\nTopic \", ix)\n",
    "        else:\n",
    "            print(\"\\nTopic: '\",topic_names[ix],\"'\")\n",
    "        print(\", \".join([feature_names[i]\n",
    "                        for i in topic.argsort()[:-no_top_words - 1:-1]]))"
   ]
  },
  {
   "cell_type": "code",
   "execution_count": 92,
   "id": "695847c3",
   "metadata": {},
   "outputs": [
    {
     "name": "stdout",
     "output_type": "stream",
     "text": [
      "\n",
      "Topic  0\n",
      "world, new, opening, ossetia, south ossetia, south, iraq, nato, did, military\n",
      "\n",
      "Topic  1\n",
      "ceasefire georgia, cnn, georgia operation, cold war, right, right gorbachev, cold, cnn use, rocket, rocket launchers\n",
      "\n",
      "Topic  2\n",
      "zealand passports, mistake, leaders genocide, zealand, living, living ossetia, manufacturer, manufacturer war, medal, medal india\n"
     ]
    }
   ],
   "source": [
    "display_topics(nmf_model, vectorizer.get_feature_names(), 10)"
   ]
  },
  {
   "cell_type": "markdown",
   "id": "803b3d5e",
   "metadata": {},
   "source": [
    "## Latent Semantic Analysis(LSA)"
   ]
  },
  {
   "cell_type": "code",
   "execution_count": 93,
   "id": "12a2b313",
   "metadata": {},
   "outputs": [],
   "source": [
    "from sklearn.decomposition import TruncatedSVD"
   ]
  },
  {
   "cell_type": "code",
   "execution_count": 94,
   "id": "535c263a",
   "metadata": {},
   "outputs": [
    {
     "data": {
      "text/plain": [
       "array([0.10840799, 0.49337014, 0.39822186])"
      ]
     },
     "execution_count": 94,
     "metadata": {},
     "output_type": "execute_result"
    }
   ],
   "source": [
    "lsa = TruncatedSVD(3)\n",
    "\n",
    "doc_topic_lsa = lsa.fit_transform(doc_word)\n",
    "lsa.explained_variance_ratio_"
   ]
  },
  {
   "cell_type": "code",
   "execution_count": 95,
   "id": "6f09c235",
   "metadata": {},
   "outputs": [
    {
     "data": {
      "text/html": [
       "<div>\n",
       "<style scoped>\n",
       "    .dataframe tbody tr th:only-of-type {\n",
       "        vertical-align: middle;\n",
       "    }\n",
       "\n",
       "    .dataframe tbody tr th {\n",
       "        vertical-align: top;\n",
       "    }\n",
       "\n",
       "    .dataframe thead th {\n",
       "        text-align: right;\n",
       "    }\n",
       "</style>\n",
       "<table border=\"1\" class=\"dataframe\">\n",
       "  <thead>\n",
       "    <tr style=\"text-align: right;\">\n",
       "      <th></th>\n",
       "      <th>abandoned</th>\n",
       "      <th>abandoned russia</th>\n",
       "      <th>abhinav</th>\n",
       "      <th>abhinav bindra</th>\n",
       "      <th>absorb</th>\n",
       "      <th>absorb georgia</th>\n",
       "      <th>accuses</th>\n",
       "      <th>accuses making</th>\n",
       "      <th>act</th>\n",
       "      <th>act prevent</th>\n",
       "      <th>...</th>\n",
       "      <th>xo</th>\n",
       "      <th>xo laptop</th>\n",
       "      <th>year</th>\n",
       "      <th>year old</th>\n",
       "      <th>years</th>\n",
       "      <th>years kept</th>\n",
       "      <th>youtube</th>\n",
       "      <th>youtube russian</th>\n",
       "      <th>zealand</th>\n",
       "      <th>zealand passports</th>\n",
       "    </tr>\n",
       "  </thead>\n",
       "  <tbody>\n",
       "    <tr>\n",
       "      <th>component_1</th>\n",
       "      <td>0.013</td>\n",
       "      <td>0.013</td>\n",
       "      <td>0.013</td>\n",
       "      <td>0.013</td>\n",
       "      <td>0.041</td>\n",
       "      <td>0.041</td>\n",
       "      <td>0.025</td>\n",
       "      <td>0.025</td>\n",
       "      <td>0.041</td>\n",
       "      <td>0.041</td>\n",
       "      <td>...</td>\n",
       "      <td>0.025</td>\n",
       "      <td>0.025</td>\n",
       "      <td>0.066</td>\n",
       "      <td>0.066</td>\n",
       "      <td>0.041</td>\n",
       "      <td>0.041</td>\n",
       "      <td>0.041</td>\n",
       "      <td>0.041</td>\n",
       "      <td>0.013</td>\n",
       "      <td>0.013</td>\n",
       "    </tr>\n",
       "    <tr>\n",
       "      <th>component_2</th>\n",
       "      <td>0.003</td>\n",
       "      <td>0.003</td>\n",
       "      <td>0.003</td>\n",
       "      <td>0.003</td>\n",
       "      <td>-0.030</td>\n",
       "      <td>-0.030</td>\n",
       "      <td>0.048</td>\n",
       "      <td>0.048</td>\n",
       "      <td>-0.030</td>\n",
       "      <td>-0.030</td>\n",
       "      <td>...</td>\n",
       "      <td>0.048</td>\n",
       "      <td>0.048</td>\n",
       "      <td>0.018</td>\n",
       "      <td>0.018</td>\n",
       "      <td>-0.030</td>\n",
       "      <td>-0.030</td>\n",
       "      <td>-0.030</td>\n",
       "      <td>-0.030</td>\n",
       "      <td>0.003</td>\n",
       "      <td>0.003</td>\n",
       "    </tr>\n",
       "    <tr>\n",
       "      <th>component_3</th>\n",
       "      <td>0.059</td>\n",
       "      <td>0.059</td>\n",
       "      <td>0.059</td>\n",
       "      <td>0.059</td>\n",
       "      <td>-0.012</td>\n",
       "      <td>-0.012</td>\n",
       "      <td>-0.011</td>\n",
       "      <td>-0.011</td>\n",
       "      <td>-0.012</td>\n",
       "      <td>-0.012</td>\n",
       "      <td>...</td>\n",
       "      <td>-0.011</td>\n",
       "      <td>-0.011</td>\n",
       "      <td>-0.023</td>\n",
       "      <td>-0.023</td>\n",
       "      <td>-0.012</td>\n",
       "      <td>-0.012</td>\n",
       "      <td>-0.012</td>\n",
       "      <td>-0.012</td>\n",
       "      <td>0.059</td>\n",
       "      <td>0.059</td>\n",
       "    </tr>\n",
       "  </tbody>\n",
       "</table>\n",
       "<p>3 rows × 917 columns</p>\n",
       "</div>"
      ],
      "text/plain": [
       "             abandoned  abandoned russia  abhinav  abhinav bindra  absorb  \\\n",
       "component_1      0.013             0.013    0.013           0.013   0.041   \n",
       "component_2      0.003             0.003    0.003           0.003  -0.030   \n",
       "component_3      0.059             0.059    0.059           0.059  -0.012   \n",
       "\n",
       "             absorb georgia  accuses  accuses making    act  act prevent  ...  \\\n",
       "component_1           0.041    0.025           0.025  0.041        0.041  ...   \n",
       "component_2          -0.030    0.048           0.048 -0.030       -0.030  ...   \n",
       "component_3          -0.012   -0.011          -0.011 -0.012       -0.012  ...   \n",
       "\n",
       "                xo  xo laptop   year  year old  years  years kept  youtube  \\\n",
       "component_1  0.025      0.025  0.066     0.066  0.041       0.041    0.041   \n",
       "component_2  0.048      0.048  0.018     0.018 -0.030      -0.030   -0.030   \n",
       "component_3 -0.011     -0.011 -0.023    -0.023 -0.012      -0.012   -0.012   \n",
       "\n",
       "             youtube russian  zealand  zealand passports  \n",
       "component_1            0.041    0.013              0.013  \n",
       "component_2           -0.030    0.003              0.003  \n",
       "component_3           -0.012    0.059              0.059  \n",
       "\n",
       "[3 rows x 917 columns]"
      ]
     },
     "execution_count": 95,
     "metadata": {},
     "output_type": "execute_result"
    }
   ],
   "source": [
    "topic_word_lsa = pd.DataFrame(lsa.components_.round(3),\n",
    "             index = [\"component_1\",\"component_2\", \"component_3\"],\n",
    "             columns = vectorizer.get_feature_names())\n",
    "topic_word_lsa"
   ]
  },
  {
   "cell_type": "code",
   "execution_count": 96,
   "id": "0b22adf9",
   "metadata": {},
   "outputs": [],
   "source": [
    "def display_topics(model, feature_names, no_top_words, topic_names=None):\n",
    "    for ix, topic in enumerate(model.components_):\n",
    "        if not topic_names or not topic_names[ix]:\n",
    "            print(\"\\nTopic \", ix)\n",
    "        else:\n",
    "            print(\"\\nTopic: '\",topic_names[ix],\"'\")\n",
    "        print(\", \".join([feature_names[i]\n",
    "                        for i in topic.argsort()[:-no_top_words - 1:-1]]))"
   ]
  },
  {
   "cell_type": "code",
   "execution_count": 97,
   "id": "e16a05d4",
   "metadata": {},
   "outputs": [
    {
     "name": "stdout",
     "output_type": "stream",
     "text": [
      "\n",
      "Topic  0\n",
      "georgia, new, iraq, nato, russia\n",
      "\n",
      "Topic  1\n",
      "conflict, georgia russia, america, pyramid tokyo, cover georgian\n",
      "\n",
      "Topic  2\n",
      "abandoned russia, abhinav, zealand passports, mistake monumental, zealand\n"
     ]
    }
   ],
   "source": [
    "display_topics(lsa, vectorizer.get_feature_names(), 5)"
   ]
  },
  {
   "cell_type": "code",
   "execution_count": 217,
   "id": "b79cedca",
   "metadata": {},
   "outputs": [],
   "source": [
    "def get_news(start_date, end_date, num_topics, num_topic_words):\n",
    "    \n",
    "    selected_date_headlines = nlp_df.loc[start_date:end_date,:]\n",
    "   \n",
    "    news_list= []\n",
    "\n",
    "    for row in range(0,len(selected_date_headlines)):\n",
    "        news_list.append(' '.join(str(txt) for txt in selected_date_headlines.iloc[row, 1:26]))\n",
    "    \n",
    "    cleaned_selected_headlines = []\n",
    "\n",
    "    for text in range(0, len(selected_date_headlines)):\n",
    "        cleaned_selected_headlines.append(re.sub('b[''\\'\"]', '', news_list[text])) # remove 'b' followed by characters\n",
    "        cleaned_selected_headlines[text] = re.sub(\"\\'\", '', cleaned_selected_headlines[text]) # remove quotes and '\\'\n",
    "        cleaned_selected_headlines[text] = re.sub('\\w*\\d\\w*', ' ', cleaned_selected_headlines[text])# remove digits\n",
    "        cleaned_selected_headlines[text] = cleaned_selected_headlines[text].lower() # make all text lower case\n",
    "        cleaned_selected_headlines[text] = re.sub('[%s]'% re.escape(string.punctuation), ' ', cleaned_selected_headlines[text]) #remove punctuation\n",
    "\n",
    "    selected_date_vectorizer = CountVectorizer(ngram_range=(1,2), binary=True, stop_words='english', preprocessor=prep)    \n",
    "    \n",
    "    selected_doc_word = selected_date_vectorizer.fit_transform(cleaned_selected_headlines)\n",
    "    \n",
    "    \n",
    "    lsa_selected = TruncatedSVD(num_topics)\n",
    "\n",
    "    doc_topic_lsa = lsa_selected.fit_transform(selected_doc_word)   \n",
    "    \n",
    "    return display_topics(lsa_selected, selected_date_vectorizer.get_feature_names(), num_topic_words)"
   ]
  },
  {
   "cell_type": "code",
   "execution_count": 278,
   "id": "1b938e53",
   "metadata": {},
   "outputs": [
    {
     "name": "stdout",
     "output_type": "stream",
     "text": [
      "\n",
      "Topic  0\n",
      "russia, war, russian, says, georgia, military, china, world, attack\n",
      "\n",
      "Topic  1\n",
      "pakistan, chiefs, open, killing, raid, kills, civilians, million, militants\n"
     ]
    }
   ],
   "source": [
    "get_news('2008-08-08','2008-09-31',2, 9)"
   ]
  },
  {
   "cell_type": "code",
   "execution_count": 202,
   "id": "16a9a7fb",
   "metadata": {},
   "outputs": [],
   "source": []
  },
  {
   "cell_type": "code",
   "execution_count": 203,
   "id": "d2e43eeb",
   "metadata": {},
   "outputs": [],
   "source": [
    "lsa_selected = TruncatedSVD(3)\n",
    "\n",
    "doc_topic_lsa = lsa_selected.fit_transform(selected_doc_word)"
   ]
  },
  {
   "cell_type": "code",
   "execution_count": 205,
   "id": "875117a1",
   "metadata": {},
   "outputs": [
    {
     "name": "stdout",
     "output_type": "stream",
     "text": [
      "\n",
      "Topic  0\n",
      "islamic, state, islamic state, saudi, countrys, isis, eu, terror\n",
      "\n",
      "Topic  1\n",
      "executive, sony, disabled, site god, slave, slave centre, hedge, hedge fund\n",
      "\n",
      "Topic  2\n",
      "thousands, states, recovery, fighting, erdogan, officers, young, offers\n"
     ]
    }
   ],
   "source": [
    "display_topics(lsa_selected, selected_date_vectorizer.get_feature_names(), 8)"
   ]
  },
  {
   "cell_type": "code",
   "execution_count": null,
   "id": "ee151e63",
   "metadata": {},
   "outputs": [],
   "source": []
  }
 ],
 "metadata": {
  "kernelspec": {
   "display_name": "Python [conda env:metis] *",
   "language": "python",
   "name": "conda-env-metis-py"
  },
  "language_info": {
   "codemirror_mode": {
    "name": "ipython",
    "version": 3
   },
   "file_extension": ".py",
   "mimetype": "text/x-python",
   "name": "python",
   "nbconvert_exporter": "python",
   "pygments_lexer": "ipython3",
   "version": "3.8.10"
  }
 },
 "nbformat": 4,
 "nbformat_minor": 5
}
